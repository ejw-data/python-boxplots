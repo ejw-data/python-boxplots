{
 "cells": [
  {
   "cell_type": "code",
   "execution_count": 112,
   "id": "5c12a847",
   "metadata": {},
   "outputs": [],
   "source": [
    "# Dependencies\n",
    "import pandas as pd\n",
    "import matplotlib.pyplot as plt"
   ]
  },
  {
   "cell_type": "code",
   "execution_count": 113,
   "id": "fbe60719",
   "metadata": {},
   "outputs": [
    {
     "data": {
      "text/html": [
       "<div>\n",
       "<style scoped>\n",
       "    .dataframe tbody tr th:only-of-type {\n",
       "        vertical-align: middle;\n",
       "    }\n",
       "\n",
       "    .dataframe tbody tr th {\n",
       "        vertical-align: top;\n",
       "    }\n",
       "\n",
       "    .dataframe thead th {\n",
       "        text-align: right;\n",
       "    }\n",
       "</style>\n",
       "<table border=\"1\" class=\"dataframe\">\n",
       "  <thead>\n",
       "    <tr style=\"text-align: right;\">\n",
       "      <th></th>\n",
       "      <th>species</th>\n",
       "      <th>island</th>\n",
       "      <th>culmen_length_mm</th>\n",
       "      <th>culmen_depth_mm</th>\n",
       "      <th>flipper_length_mm</th>\n",
       "      <th>body_mass_g</th>\n",
       "      <th>sex</th>\n",
       "    </tr>\n",
       "  </thead>\n",
       "  <tbody>\n",
       "    <tr>\n",
       "      <th>0</th>\n",
       "      <td>Adelie</td>\n",
       "      <td>Torgersen</td>\n",
       "      <td>39.1</td>\n",
       "      <td>18.7</td>\n",
       "      <td>181.0</td>\n",
       "      <td>3750.0</td>\n",
       "      <td>MALE</td>\n",
       "    </tr>\n",
       "    <tr>\n",
       "      <th>1</th>\n",
       "      <td>Adelie</td>\n",
       "      <td>Torgersen</td>\n",
       "      <td>39.5</td>\n",
       "      <td>17.4</td>\n",
       "      <td>186.0</td>\n",
       "      <td>3800.0</td>\n",
       "      <td>FEMALE</td>\n",
       "    </tr>\n",
       "    <tr>\n",
       "      <th>2</th>\n",
       "      <td>Adelie</td>\n",
       "      <td>Torgersen</td>\n",
       "      <td>40.3</td>\n",
       "      <td>18.0</td>\n",
       "      <td>195.0</td>\n",
       "      <td>3250.0</td>\n",
       "      <td>FEMALE</td>\n",
       "    </tr>\n",
       "    <tr>\n",
       "      <th>3</th>\n",
       "      <td>Adelie</td>\n",
       "      <td>Torgersen</td>\n",
       "      <td>NaN</td>\n",
       "      <td>NaN</td>\n",
       "      <td>NaN</td>\n",
       "      <td>NaN</td>\n",
       "      <td>NaN</td>\n",
       "    </tr>\n",
       "    <tr>\n",
       "      <th>4</th>\n",
       "      <td>Adelie</td>\n",
       "      <td>Torgersen</td>\n",
       "      <td>36.7</td>\n",
       "      <td>19.3</td>\n",
       "      <td>193.0</td>\n",
       "      <td>3450.0</td>\n",
       "      <td>FEMALE</td>\n",
       "    </tr>\n",
       "  </tbody>\n",
       "</table>\n",
       "</div>"
      ],
      "text/plain": [
       "  species     island  culmen_length_mm  culmen_depth_mm  flipper_length_mm  \\\n",
       "0  Adelie  Torgersen              39.1             18.7              181.0   \n",
       "1  Adelie  Torgersen              39.5             17.4              186.0   \n",
       "2  Adelie  Torgersen              40.3             18.0              195.0   \n",
       "3  Adelie  Torgersen               NaN              NaN                NaN   \n",
       "4  Adelie  Torgersen              36.7             19.3              193.0   \n",
       "\n",
       "   body_mass_g     sex  \n",
       "0       3750.0    MALE  \n",
       "1       3800.0  FEMALE  \n",
       "2       3250.0  FEMALE  \n",
       "3          NaN     NaN  \n",
       "4       3450.0  FEMALE  "
      ]
     },
     "execution_count": 113,
     "metadata": {},
     "output_type": "execute_result"
    }
   ],
   "source": [
    "#import data\n",
    "penguin_size_df = pd.read_csv(\"data/penguins_size.csv\")\n",
    "penguin_size_df.head()"
   ]
  },
  {
   "cell_type": "code",
   "execution_count": 114,
   "id": "59a886d4",
   "metadata": {},
   "outputs": [],
   "source": [
    "df = penguin_size_df[['species', 'sex', 'body_mass_g']]"
   ]
  },
  {
   "cell_type": "code",
   "execution_count": 115,
   "id": "1b456720",
   "metadata": {},
   "outputs": [
    {
     "data": {
      "text/html": [
       "<div>\n",
       "<style scoped>\n",
       "    .dataframe tbody tr th:only-of-type {\n",
       "        vertical-align: middle;\n",
       "    }\n",
       "\n",
       "    .dataframe tbody tr th {\n",
       "        vertical-align: top;\n",
       "    }\n",
       "\n",
       "    .dataframe thead th {\n",
       "        text-align: right;\n",
       "    }\n",
       "</style>\n",
       "<table border=\"1\" class=\"dataframe\">\n",
       "  <thead>\n",
       "    <tr style=\"text-align: right;\">\n",
       "      <th></th>\n",
       "      <th>species</th>\n",
       "      <th>sex</th>\n",
       "      <th>body_mass_g</th>\n",
       "    </tr>\n",
       "  </thead>\n",
       "  <tbody>\n",
       "    <tr>\n",
       "      <th>0</th>\n",
       "      <td>Adelie</td>\n",
       "      <td>MALE</td>\n",
       "      <td>3750.0</td>\n",
       "    </tr>\n",
       "    <tr>\n",
       "      <th>5</th>\n",
       "      <td>Adelie</td>\n",
       "      <td>MALE</td>\n",
       "      <td>3650.0</td>\n",
       "    </tr>\n",
       "    <tr>\n",
       "      <th>7</th>\n",
       "      <td>Adelie</td>\n",
       "      <td>MALE</td>\n",
       "      <td>4675.0</td>\n",
       "    </tr>\n",
       "    <tr>\n",
       "      <th>13</th>\n",
       "      <td>Adelie</td>\n",
       "      <td>MALE</td>\n",
       "      <td>3800.0</td>\n",
       "    </tr>\n",
       "    <tr>\n",
       "      <th>14</th>\n",
       "      <td>Adelie</td>\n",
       "      <td>MALE</td>\n",
       "      <td>4400.0</td>\n",
       "    </tr>\n",
       "    <tr>\n",
       "      <th>...</th>\n",
       "      <td>...</td>\n",
       "      <td>...</td>\n",
       "      <td>...</td>\n",
       "    </tr>\n",
       "    <tr>\n",
       "      <th>143</th>\n",
       "      <td>Adelie</td>\n",
       "      <td>MALE</td>\n",
       "      <td>3725.0</td>\n",
       "    </tr>\n",
       "    <tr>\n",
       "      <th>145</th>\n",
       "      <td>Adelie</td>\n",
       "      <td>MALE</td>\n",
       "      <td>3650.0</td>\n",
       "    </tr>\n",
       "    <tr>\n",
       "      <th>146</th>\n",
       "      <td>Adelie</td>\n",
       "      <td>MALE</td>\n",
       "      <td>4250.0</td>\n",
       "    </tr>\n",
       "    <tr>\n",
       "      <th>149</th>\n",
       "      <td>Adelie</td>\n",
       "      <td>MALE</td>\n",
       "      <td>3750.0</td>\n",
       "    </tr>\n",
       "    <tr>\n",
       "      <th>151</th>\n",
       "      <td>Adelie</td>\n",
       "      <td>MALE</td>\n",
       "      <td>4000.0</td>\n",
       "    </tr>\n",
       "  </tbody>\n",
       "</table>\n",
       "<p>73 rows × 3 columns</p>\n",
       "</div>"
      ],
      "text/plain": [
       "    species   sex  body_mass_g\n",
       "0    Adelie  MALE       3750.0\n",
       "5    Adelie  MALE       3650.0\n",
       "7    Adelie  MALE       4675.0\n",
       "13   Adelie  MALE       3800.0\n",
       "14   Adelie  MALE       4400.0\n",
       "..      ...   ...          ...\n",
       "143  Adelie  MALE       3725.0\n",
       "145  Adelie  MALE       3650.0\n",
       "146  Adelie  MALE       4250.0\n",
       "149  Adelie  MALE       3750.0\n",
       "151  Adelie  MALE       4000.0\n",
       "\n",
       "[73 rows x 3 columns]"
      ]
     },
     "execution_count": 115,
     "metadata": {},
     "output_type": "execute_result"
    }
   ],
   "source": [
    "df_filtered = df[ (df['species']=='Adelie') & (df['sex']=='MALE')]\n",
    "df_filtered "
   ]
  },
  {
   "cell_type": "code",
   "execution_count": 116,
   "id": "4e50b602",
   "metadata": {},
   "outputs": [
    {
     "data": {
      "text/html": [
       "<div>\n",
       "<style scoped>\n",
       "    .dataframe tbody tr th:only-of-type {\n",
       "        vertical-align: middle;\n",
       "    }\n",
       "\n",
       "    .dataframe tbody tr th {\n",
       "        vertical-align: top;\n",
       "    }\n",
       "\n",
       "    .dataframe thead th {\n",
       "        text-align: right;\n",
       "    }\n",
       "</style>\n",
       "<table border=\"1\" class=\"dataframe\">\n",
       "  <thead>\n",
       "    <tr style=\"text-align: right;\">\n",
       "      <th></th>\n",
       "      <th>index</th>\n",
       "      <th>body_mass_g</th>\n",
       "    </tr>\n",
       "  </thead>\n",
       "  <tbody>\n",
       "    <tr>\n",
       "      <th>0</th>\n",
       "      <td>0</td>\n",
       "      <td>3750.0</td>\n",
       "    </tr>\n",
       "    <tr>\n",
       "      <th>1</th>\n",
       "      <td>5</td>\n",
       "      <td>3650.0</td>\n",
       "    </tr>\n",
       "    <tr>\n",
       "      <th>2</th>\n",
       "      <td>7</td>\n",
       "      <td>4675.0</td>\n",
       "    </tr>\n",
       "    <tr>\n",
       "      <th>3</th>\n",
       "      <td>13</td>\n",
       "      <td>3800.0</td>\n",
       "    </tr>\n",
       "    <tr>\n",
       "      <th>4</th>\n",
       "      <td>14</td>\n",
       "      <td>4400.0</td>\n",
       "    </tr>\n",
       "    <tr>\n",
       "      <th>...</th>\n",
       "      <td>...</td>\n",
       "      <td>...</td>\n",
       "    </tr>\n",
       "    <tr>\n",
       "      <th>68</th>\n",
       "      <td>143</td>\n",
       "      <td>3725.0</td>\n",
       "    </tr>\n",
       "    <tr>\n",
       "      <th>69</th>\n",
       "      <td>145</td>\n",
       "      <td>3650.0</td>\n",
       "    </tr>\n",
       "    <tr>\n",
       "      <th>70</th>\n",
       "      <td>146</td>\n",
       "      <td>4250.0</td>\n",
       "    </tr>\n",
       "    <tr>\n",
       "      <th>71</th>\n",
       "      <td>149</td>\n",
       "      <td>3750.0</td>\n",
       "    </tr>\n",
       "    <tr>\n",
       "      <th>72</th>\n",
       "      <td>151</td>\n",
       "      <td>4000.0</td>\n",
       "    </tr>\n",
       "  </tbody>\n",
       "</table>\n",
       "<p>73 rows × 2 columns</p>\n",
       "</div>"
      ],
      "text/plain": [
       "    index  body_mass_g\n",
       "0       0       3750.0\n",
       "1       5       3650.0\n",
       "2       7       4675.0\n",
       "3      13       3800.0\n",
       "4      14       4400.0\n",
       "..    ...          ...\n",
       "68    143       3725.0\n",
       "69    145       3650.0\n",
       "70    146       4250.0\n",
       "71    149       3750.0\n",
       "72    151       4000.0\n",
       "\n",
       "[73 rows x 2 columns]"
      ]
     },
     "execution_count": 116,
     "metadata": {},
     "output_type": "execute_result"
    }
   ],
   "source": [
    "adelie_male_mass = df_filtered ['body_mass_g'].reset_index()\n",
    "adelie_male_mass"
   ]
  },
  {
   "cell_type": "markdown",
   "id": "8fd1ff10",
   "metadata": {},
   "source": [
    "## Pandas BoxPlot"
   ]
  },
  {
   "cell_type": "code",
   "execution_count": 117,
   "id": "3cc02d51",
   "metadata": {},
   "outputs": [
    {
     "data": {
      "image/png": "[encoded data removed]",
      "text/plain": [
       "<Figure size 432x288 with 1 Axes>"
      ]
     },
     "metadata": {
      "needs_background": "light"
     },
     "output_type": "display_data"
    }
   ],
   "source": [
    "# can not modify the pandas whisker settings\n",
    "mass_boxplot = adelie_male_mass.boxplot(column='body_mass_g') \n",
    "plt.xticks(rotation = 45);"
   ]
  },
  {
   "cell_type": "markdown",
   "id": "53b22a9a",
   "metadata": {},
   "source": [
    "## Dataset Min/Max"
   ]
  },
  {
   "cell_type": "code",
   "execution_count": 128,
   "id": "3630bb49",
   "metadata": {},
   "outputs": [
    {
     "name": "stdout",
     "output_type": "stream",
     "text": [
      "Max value: 4775.0\n",
      "Min value: 3325.0\n"
     ]
    }
   ],
   "source": [
    "print(f\"Max value: {max(list(adelie_male_mass['body_mass_g']))}\")\n",
    "print(f\"Min value: {min(list(adelie_male_mass['body_mass_g']))}\")"
   ]
  },
  {
   "cell_type": "markdown",
   "id": "f4aa03ba",
   "metadata": {},
   "source": [
    "## Matplotlib Box plot"
   ]
  },
  {
   "cell_type": "code",
   "execution_count": 140,
   "id": "ab3ffcf9",
   "metadata": {},
   "outputs": [
    {
     "data": {
      "text/plain": [
       "(2500.0, 5000.0)"
      ]
     },
     "execution_count": 140,
     "metadata": {},
     "output_type": "execute_result"
    },
    {
     "data": {
      "image/png": "[encoded data removed]",
      "text/plain": [
       "<Figure size 432x288 with 1 Axes>"
      ]
     },
     "metadata": {
      "needs_background": "light"
     },
     "output_type": "display_data"
    }
   ],
   "source": [
    "ax0 = plt.boxplot(adelie_male_mass['body_mass_g'], labels = [\"Body Mass\"])\n",
    "plt.xticks(rotation = 45);\n",
    "plt.ylim(2500, 5000);"
   ]
  },
  {
   "cell_type": "markdown",
   "id": "4b0682ee",
   "metadata": {},
   "source": [
    "## Whisker Locations"
   ]
  },
  {
   "cell_type": "code",
   "execution_count": 130,
   "id": "3d6fa195",
   "metadata": {},
   "outputs": [
    {
     "data": {
      "text/plain": [
       "{'whiskers': [<matplotlib.lines.Line2D at 0x1cdc75f06a0>,\n",
       "  <matplotlib.lines.Line2D at 0x1cdc6a5c7f0>],\n",
       " 'caps': [<matplotlib.lines.Line2D at 0x1cdc48098e0>,\n",
       "  <matplotlib.lines.Line2D at 0x1cdc6953a60>],\n",
       " 'boxes': [<matplotlib.lines.Line2D at 0x1cdc471c8b0>],\n",
       " 'medians': [<matplotlib.lines.Line2D at 0x1cdc4f448e0>],\n",
       " 'fliers': [<matplotlib.lines.Line2D at 0x1cdc720e160>],\n",
       " 'means': []}"
      ]
     },
     "execution_count": 130,
     "metadata": {},
     "output_type": "execute_result"
    }
   ],
   "source": [
    "ax0"
   ]
  },
  {
   "cell_type": "code",
   "execution_count": 131,
   "id": "654a975d",
   "metadata": {},
   "outputs": [
    {
     "name": "stdout",
     "output_type": "stream",
     "text": [
      "The bottom whisker is located at y=3325.0\n",
      "The top whisker is located at y=4775.0\n"
     ]
    }
   ],
   "source": [
    "capbottom = ax0['caps'][0].get_ydata()[0]\n",
    "captop = ax0['caps'][1].get_ydata()[0]\n",
    "\n",
    "print(f\"The bottom whisker is located at y={capbottom}\")\n",
    "print(f\"The top whisker is located at y={captop}\")"
   ]
  },
  {
   "cell_type": "markdown",
   "id": "54e95e5e",
   "metadata": {},
   "source": [
    "## Calculated Whisker locations"
   ]
  },
  {
   "cell_type": "code",
   "execution_count": 148,
   "id": "2bde5061",
   "metadata": {},
   "outputs": [],
   "source": [
    "lower_quarter, median, upper_quarter = adelie_male_mass['body_mass_g'].quantile(q=[0.25, 0.5, 0.75] )\n"
   ]
  },
  {
   "cell_type": "code",
   "execution_count": 133,
   "id": "d0d11285",
   "metadata": {},
   "outputs": [
    {
     "name": "stdout",
     "output_type": "stream",
     "text": [
      "The calculated lowerbounds is located at y=3050.0\n",
      "The calculated upperbounds is located at y=5050.0\n"
     ]
    }
   ],
   "source": [
    "IQR = upper_quarter - lower_quarter\n",
    "my_whis = 1.5\n",
    "calc_lower_whisker = lower_quarter - my_whis*IQR\n",
    "calc_upper_whisker = upper_quarter + my_whis*IQR\n",
    "print(f\"The calculated lowerbounds is located at y={calc_lower_whisker}\")\n",
    "print(f\"The calculated upperbounds is located at y={calc_upper_whisker}\")"
   ]
  },
  {
   "cell_type": "code",
   "execution_count": 141,
   "id": "197c33c8",
   "metadata": {},
   "outputs": [
    {
     "data": {
      "image/png": "[encoded data removed]",
      "text/plain": [
       "<Figure size 432x288 with 1 Axes>"
      ]
     },
     "metadata": {
      "needs_background": "light"
     },
     "output_type": "display_data"
    }
   ],
   "source": [
    "ax1 = plt.boxplot(adelie_male_mass['body_mass_g'], labels = [\"Body Mass\"])\n",
    "plt.hlines(y=calc_lower_whisker, xmin=0.95, xmax=1.05)\n",
    "plt.hlines(y=calc_upper_whisker, xmin=0.95, xmax=1.05)\n",
    "plt.annotate(\"Calculated Upperbounds\", (1.07,calc_upper_whisker))\n",
    "plt.annotate(\"Calculated Lowerbounds\", (1.07,calc_lower_whisker))\n",
    "plt.xticks(rotation = 45);\n",
    "plt.ylim(2500, 5000);"
   ]
  },
  {
   "cell_type": "code",
   "execution_count": 135,
   "id": "68c54272",
   "metadata": {},
   "outputs": [
    {
     "name": "stdout",
     "output_type": "stream",
     "text": [
      "Summary\n",
      "The datset min value: 3325.0\n",
      "The calculated lowerbounds is located at y=3050.0\n",
      "The bottom whisker is located at y=3325.0\n",
      "\n",
      "The datset max value: 4775.0\n",
      "The calculated upperbounds is located at y=5050.0\n",
      "The top whisker is located at y=4775.0\n"
     ]
    }
   ],
   "source": [
    "print(\"Summary\")\n",
    "print(f\"The datset min value: {min(list(adelie_male_mass['body_mass_g']))}\")\n",
    "print(f\"The calculated lowerbounds is located at y={calc_lower_whisker}\")\n",
    "print(f\"The bottom whisker is located at y={capbottom}\")\n",
    "print()\n",
    "print(f\"The datset max value: {max(list(adelie_male_mass['body_mass_g']))}\")\n",
    "print(f\"The calculated upperbounds is located at y={calc_upper_whisker}\")\n",
    "print(f\"The top whisker is located at y={captop}\")\n"
   ]
  },
  {
   "cell_type": "markdown",
   "id": "6c5583b9",
   "metadata": {},
   "source": [
    "## Insert value just within calculated lowerbounds"
   ]
  },
  {
   "cell_type": "code",
   "execution_count": 142,
   "id": "eb52c599",
   "metadata": {},
   "outputs": [
    {
     "name": "stdout",
     "output_type": "stream",
     "text": [
      "The datset min value: 3085.0\n",
      "The calculated lowerbounds is at y=3059.375\n",
      "The bottom whisker is located at y=3085.0\n",
      "\n",
      "The datset max value: 4775.0\n",
      "The calculated upperbounds is at y=5034.375\n",
      "The top whisker is located at y=4775.0\n"
     ]
    },
    {
     "data": {
      "image/png": "[encoded data removed]",
      "text/plain": [
       "<Figure size 432x288 with 1 Axes>"
      ]
     },
     "metadata": {
      "needs_background": "light"
     },
     "output_type": "display_data"
    }
   ],
   "source": [
    "value = pd.Series(3085)\n",
    "masses = adelie_male_mass['body_mass_g'].append(value)\n",
    "\n",
    "lower_quarter, median, upper_quarter = masses.quantile(q=[0.25, 0.5, 0.75] )\n",
    "\n",
    "IQR = upper_quarter - lower_quarter\n",
    "my_whis = 1.5\n",
    "calc_lower_whisker = lower_quarter - my_whis*IQR\n",
    "calc_upper_whisker = upper_quarter + my_whis*IQR\n",
    "\n",
    "ax1 = plt.boxplot(masses, labels = [\"Body Mass\"])\n",
    "plt.hlines(y=calc_lower_whisker, xmin=0.95, xmax=1.05)\n",
    "plt.hlines(y=calc_upper_whisker, xmin=0.95, xmax=1.05)\n",
    "plt.annotate(\"Calculated Upperbounds\", (1.07,calc_upper_whisker))\n",
    "plt.annotate(\"Calculated Lowerbounds\", (1.07,calc_lower_whisker))\n",
    "plt.xticks(rotation = 45);\n",
    "plt.ylim(2500, 5000);\n",
    "\n",
    "capbottom = ax1['caps'][0].get_ydata()[0]\n",
    "captop = ax1['caps'][1].get_ydata()[0]\n",
    "\n",
    "\n",
    "print(f\"The datset min value: {min(list(masses))}\")\n",
    "print(f\"The calculated lowerbounds is at y={calc_lower_whisker}\")\n",
    "print(f\"The bottom whisker is located at y={capbottom}\")\n",
    "print()\n",
    "print(f\"The datset max value: {max(list(masses))}\")\n",
    "print(f\"The calculated upperbounds is at y={calc_upper_whisker}\")\n",
    "print(f\"The top whisker is located at y={captop}\")"
   ]
  },
  {
   "cell_type": "code",
   "execution_count": null,
   "id": "0d53ad27",
   "metadata": {},
   "outputs": [],
   "source": []
  },
  {
   "cell_type": "code",
   "execution_count": 143,
   "id": "dd4f1503",
   "metadata": {},
   "outputs": [
    {
     "name": "stdout",
     "output_type": "stream",
     "text": [
      "The datset min value: 2700.0\n",
      "The calculated lowerbounds is at y=3059.375\n",
      "The bottom whisker is located at y=3325.0\n",
      "\n",
      "The datset max value: 4775.0\n",
      "The calculated upperbounds is at y=5034.375\n",
      "The top whisker is located at y=4775.0\n"
     ]
    },
    {
     "data": {
      "image/png": "[encoded data removed]",
      "text/plain": [
       "<Figure size 432x288 with 1 Axes>"
      ]
     },
     "metadata": {
      "needs_background": "light"
     },
     "output_type": "display_data"
    }
   ],
   "source": [
    "value = pd.Series(2700)\n",
    "masses_low = adelie_male_mass['body_mass_g'].append(value)\n",
    "\n",
    "lower_quarter, median, upper_quarter = masses_low.quantile(q=[0.25, 0.5, 0.75] )\n",
    "\n",
    "IQR = upper_quarter - lower_quarter\n",
    "my_whis = 1.5\n",
    "calc_lower_whisker = lower_quarter - my_whis*IQR\n",
    "calc_upper_whisker = upper_quarter + my_whis*IQR\n",
    "\n",
    "ax2 = plt.boxplot(masses_low, labels = [\"Body Mass\"])\n",
    "plt.hlines(y=calc_lower_whisker, xmin=0.95, xmax=1.05)\n",
    "plt.hlines(y=calc_upper_whisker, xmin=0.95, xmax=1.05)\n",
    "plt.annotate(\"Calculated Upperbounds\", (1.07,calc_upper_whisker))\n",
    "plt.annotate(\"Calculated Lowerbounds\", (1.07,calc_lower_whisker))\n",
    "plt.xticks(rotation = 45);\n",
    "plt.ylim(2500, 5000);\n",
    "\n",
    "capbottom = ax2['caps'][0].get_ydata()[0]\n",
    "captop = ax2['caps'][1].get_ydata()[0]\n",
    "\n",
    "\n",
    "print(f\"The datset min value: {min(list(masses_low))}\")\n",
    "print(f\"The calculated lowerbounds is at y={calc_lower_whisker}\")\n",
    "print(f\"The bottom whisker is located at y={capbottom}\")\n",
    "print()\n",
    "print(f\"The datset max value: {max(list(masses_low))}\")\n",
    "print(f\"The calculated upperbounds is at y={calc_upper_whisker}\")\n",
    "print(f\"The top whisker is located at y={captop}\")"
   ]
  },
  {
   "cell_type": "code",
   "execution_count": null,
   "id": "21be75d7",
   "metadata": {},
   "outputs": [],
   "source": []
  },
  {
   "cell_type": "markdown",
   "id": "f11ecc6f",
   "metadata": {},
   "source": [
    "## Matplotlib with Wiskers at 0.8 versus 1.5"
   ]
  },
  {
   "cell_type": "code",
   "execution_count": 144,
   "id": "1d43ac0a",
   "metadata": {
    "scrolled": true
   },
   "outputs": [
    {
     "data": {
      "image/png": "[encoded data removed]",
      "text/plain": [
       "<Figure size 432x288 with 1 Axes>"
      ]
     },
     "metadata": {
      "needs_background": "light"
     },
     "output_type": "display_data"
    }
   ],
   "source": [
    "ax2 = plt.boxplot(adelie_male_mass['body_mass_g'], labels = [\"Body Mass\"], whis=0.80)\n",
    "plt.xticks(rotation = 45);\n",
    "plt.ylim(2500, 5000);"
   ]
  },
  {
   "cell_type": "code",
   "execution_count": 71,
   "id": "5963275d",
   "metadata": {},
   "outputs": [
    {
     "name": "stdout",
     "output_type": "stream",
     "text": [
      "The bottom whisker is located at y=3425.0\n",
      "The top whisker is located at y=4700.0\n"
     ]
    }
   ],
   "source": [
    "capbottom = ax2['caps'][0].get_ydata()[0]\n",
    "captop = ax2['caps'][1].get_ydata()[0]\n",
    "\n",
    "print(f\"The bottom whisker is located at y={capbottom}\")\n",
    "print(f\"The top whisker is located at y={captop}\")"
   ]
  }
 ],
 "metadata": {
  "kernelspec": {
   "display_name": "Python [conda env:PythonData38]",
   "language": "python",
   "name": "conda-env-PythonData38-py"
  },
  "language_info": {
   "codemirror_mode": {
    "name": "ipython",
    "version": 3
   },
   "file_extension": ".py",
   "mimetype": "text/x-python",
   "name": "python",
   "nbconvert_exporter": "python",
   "pygments_lexer": "ipython3",
   "version": "3.8.8"
  }
 },
 "nbformat": 4,
 "nbformat_minor": 5
}
