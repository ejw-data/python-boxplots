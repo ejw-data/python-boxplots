{
 "cells": [
  {
   "cell_type": "code",
   "execution_count": 1,
   "id": "6a49891a",
   "metadata": {},
   "outputs": [],
   "source": [
    "# Dependencies\n",
    "import pandas as pd\n",
    "import matplotlib.pyplot as plt\n",
    "import plotly.express as px\n",
    "import plotly.offline as pxo\n",
    "import seaborn as sns\n",
    "from bokeh.plotting import figure, show"
   ]
  },
  {
   "cell_type": "code",
   "execution_count": 2,
   "id": "b50973ac",
   "metadata": {},
   "outputs": [],
   "source": [
    "#import data\n",
    "penguin_iter_df = pd.read_csv(\"data/penguins_iter.csv\")\n",
    "penguin_size_df = pd.read_csv(\"data/penguins_size.csv\")"
   ]
  },
  {
   "cell_type": "code",
   "execution_count": 3,
   "id": "1db3c30e",
   "metadata": {},
   "outputs": [
    {
     "name": "stdout",
     "output_type": "stream",
     "text": [
      "(344, 17)\n"
     ]
    },
    {
     "data": {
      "text/html": [
       "<div>\n",
       "<style scoped>\n",
       "    .dataframe tbody tr th:only-of-type {\n",
       "        vertical-align: middle;\n",
       "    }\n",
       "\n",
       "    .dataframe tbody tr th {\n",
       "        vertical-align: top;\n",
       "    }\n",
       "\n",
       "    .dataframe thead th {\n",
       "        text-align: right;\n",
       "    }\n",
       "</style>\n",
       "<table border=\"1\" class=\"dataframe\">\n",
       "  <thead>\n",
       "    <tr style=\"text-align: right;\">\n",
       "      <th></th>\n",
       "      <th>studyName</th>\n",
       "      <th>Sample Number</th>\n",
       "      <th>Species</th>\n",
       "      <th>Region</th>\n",
       "      <th>Island</th>\n",
       "      <th>Stage</th>\n",
       "      <th>Individual ID</th>\n",
       "      <th>Clutch Completion</th>\n",
       "      <th>Date Egg</th>\n",
       "      <th>Culmen Length (mm)</th>\n",
       "      <th>Culmen Depth (mm)</th>\n",
       "      <th>Flipper Length (mm)</th>\n",
       "      <th>Body Mass (g)</th>\n",
       "      <th>Sex</th>\n",
       "      <th>Delta 15 N (o/oo)</th>\n",
       "      <th>Delta 13 C (o/oo)</th>\n",
       "      <th>Comments</th>\n",
       "    </tr>\n",
       "  </thead>\n",
       "  <tbody>\n",
       "    <tr>\n",
       "      <th>0</th>\n",
       "      <td>PAL0708</td>\n",
       "      <td>1</td>\n",
       "      <td>Adelie Penguin (Pygoscelis adeliae)</td>\n",
       "      <td>Anvers</td>\n",
       "      <td>Torgersen</td>\n",
       "      <td>Adult, 1 Egg Stage</td>\n",
       "      <td>N1A1</td>\n",
       "      <td>Yes</td>\n",
       "      <td>11/11/07</td>\n",
       "      <td>39.1</td>\n",
       "      <td>18.7</td>\n",
       "      <td>181.0</td>\n",
       "      <td>3750.0</td>\n",
       "      <td>MALE</td>\n",
       "      <td>NaN</td>\n",
       "      <td>NaN</td>\n",
       "      <td>Not enough blood for isotopes.</td>\n",
       "    </tr>\n",
       "    <tr>\n",
       "      <th>1</th>\n",
       "      <td>PAL0708</td>\n",
       "      <td>2</td>\n",
       "      <td>Adelie Penguin (Pygoscelis adeliae)</td>\n",
       "      <td>Anvers</td>\n",
       "      <td>Torgersen</td>\n",
       "      <td>Adult, 1 Egg Stage</td>\n",
       "      <td>N1A2</td>\n",
       "      <td>Yes</td>\n",
       "      <td>11/11/07</td>\n",
       "      <td>39.5</td>\n",
       "      <td>17.4</td>\n",
       "      <td>186.0</td>\n",
       "      <td>3800.0</td>\n",
       "      <td>FEMALE</td>\n",
       "      <td>8.94956</td>\n",
       "      <td>-24.69454</td>\n",
       "      <td>NaN</td>\n",
       "    </tr>\n",
       "    <tr>\n",
       "      <th>2</th>\n",
       "      <td>PAL0708</td>\n",
       "      <td>3</td>\n",
       "      <td>Adelie Penguin (Pygoscelis adeliae)</td>\n",
       "      <td>Anvers</td>\n",
       "      <td>Torgersen</td>\n",
       "      <td>Adult, 1 Egg Stage</td>\n",
       "      <td>N2A1</td>\n",
       "      <td>Yes</td>\n",
       "      <td>11/16/07</td>\n",
       "      <td>40.3</td>\n",
       "      <td>18.0</td>\n",
       "      <td>195.0</td>\n",
       "      <td>3250.0</td>\n",
       "      <td>FEMALE</td>\n",
       "      <td>8.36821</td>\n",
       "      <td>-25.33302</td>\n",
       "      <td>NaN</td>\n",
       "    </tr>\n",
       "    <tr>\n",
       "      <th>3</th>\n",
       "      <td>PAL0708</td>\n",
       "      <td>4</td>\n",
       "      <td>Adelie Penguin (Pygoscelis adeliae)</td>\n",
       "      <td>Anvers</td>\n",
       "      <td>Torgersen</td>\n",
       "      <td>Adult, 1 Egg Stage</td>\n",
       "      <td>N2A2</td>\n",
       "      <td>Yes</td>\n",
       "      <td>11/16/07</td>\n",
       "      <td>NaN</td>\n",
       "      <td>NaN</td>\n",
       "      <td>NaN</td>\n",
       "      <td>NaN</td>\n",
       "      <td>NaN</td>\n",
       "      <td>NaN</td>\n",
       "      <td>NaN</td>\n",
       "      <td>Adult not sampled.</td>\n",
       "    </tr>\n",
       "    <tr>\n",
       "      <th>4</th>\n",
       "      <td>PAL0708</td>\n",
       "      <td>5</td>\n",
       "      <td>Adelie Penguin (Pygoscelis adeliae)</td>\n",
       "      <td>Anvers</td>\n",
       "      <td>Torgersen</td>\n",
       "      <td>Adult, 1 Egg Stage</td>\n",
       "      <td>N3A1</td>\n",
       "      <td>Yes</td>\n",
       "      <td>11/16/07</td>\n",
       "      <td>36.7</td>\n",
       "      <td>19.3</td>\n",
       "      <td>193.0</td>\n",
       "      <td>3450.0</td>\n",
       "      <td>FEMALE</td>\n",
       "      <td>8.76651</td>\n",
       "      <td>-25.32426</td>\n",
       "      <td>NaN</td>\n",
       "    </tr>\n",
       "  </tbody>\n",
       "</table>\n",
       "</div>"
      ],
      "text/plain": [
       "  studyName  Sample Number                              Species  Region  \\\n",
       "0   PAL0708              1  Adelie Penguin (Pygoscelis adeliae)  Anvers   \n",
       "1   PAL0708              2  Adelie Penguin (Pygoscelis adeliae)  Anvers   \n",
       "2   PAL0708              3  Adelie Penguin (Pygoscelis adeliae)  Anvers   \n",
       "3   PAL0708              4  Adelie Penguin (Pygoscelis adeliae)  Anvers   \n",
       "4   PAL0708              5  Adelie Penguin (Pygoscelis adeliae)  Anvers   \n",
       "\n",
       "      Island               Stage Individual ID Clutch Completion  Date Egg  \\\n",
       "0  Torgersen  Adult, 1 Egg Stage          N1A1               Yes  11/11/07   \n",
       "1  Torgersen  Adult, 1 Egg Stage          N1A2               Yes  11/11/07   \n",
       "2  Torgersen  Adult, 1 Egg Stage          N2A1               Yes  11/16/07   \n",
       "3  Torgersen  Adult, 1 Egg Stage          N2A2               Yes  11/16/07   \n",
       "4  Torgersen  Adult, 1 Egg Stage          N3A1               Yes  11/16/07   \n",
       "\n",
       "   Culmen Length (mm)  Culmen Depth (mm)  Flipper Length (mm)  Body Mass (g)  \\\n",
       "0                39.1               18.7                181.0         3750.0   \n",
       "1                39.5               17.4                186.0         3800.0   \n",
       "2                40.3               18.0                195.0         3250.0   \n",
       "3                 NaN                NaN                  NaN            NaN   \n",
       "4                36.7               19.3                193.0         3450.0   \n",
       "\n",
       "      Sex  Delta 15 N (o/oo)  Delta 13 C (o/oo)  \\\n",
       "0    MALE                NaN                NaN   \n",
       "1  FEMALE            8.94956          -24.69454   \n",
       "2  FEMALE            8.36821          -25.33302   \n",
       "3     NaN                NaN                NaN   \n",
       "4  FEMALE            8.76651          -25.32426   \n",
       "\n",
       "                         Comments  \n",
       "0  Not enough blood for isotopes.  \n",
       "1                             NaN  \n",
       "2                             NaN  \n",
       "3              Adult not sampled.  \n",
       "4                             NaN  "
      ]
     },
     "execution_count": 3,
     "metadata": {},
     "output_type": "execute_result"
    }
   ],
   "source": [
    "print(penguin_iter_df.shape)\n",
    "penguin_iter_df.head()"
   ]
  },
  {
   "cell_type": "code",
   "execution_count": 4,
   "id": "a6fd05ec",
   "metadata": {},
   "outputs": [
    {
     "name": "stdout",
     "output_type": "stream",
     "text": [
      "(344, 7)\n"
     ]
    },
    {
     "data": {
      "text/html": [
       "<div>\n",
       "<style scoped>\n",
       "    .dataframe tbody tr th:only-of-type {\n",
       "        vertical-align: middle;\n",
       "    }\n",
       "\n",
       "    .dataframe tbody tr th {\n",
       "        vertical-align: top;\n",
       "    }\n",
       "\n",
       "    .dataframe thead th {\n",
       "        text-align: right;\n",
       "    }\n",
       "</style>\n",
       "<table border=\"1\" class=\"dataframe\">\n",
       "  <thead>\n",
       "    <tr style=\"text-align: right;\">\n",
       "      <th></th>\n",
       "      <th>species</th>\n",
       "      <th>island</th>\n",
       "      <th>culmen_length_mm</th>\n",
       "      <th>culmen_depth_mm</th>\n",
       "      <th>flipper_length_mm</th>\n",
       "      <th>body_mass_g</th>\n",
       "      <th>sex</th>\n",
       "    </tr>\n",
       "  </thead>\n",
       "  <tbody>\n",
       "    <tr>\n",
       "      <th>0</th>\n",
       "      <td>Adelie</td>\n",
       "      <td>Torgersen</td>\n",
       "      <td>39.1</td>\n",
       "      <td>18.7</td>\n",
       "      <td>181.0</td>\n",
       "      <td>3750.0</td>\n",
       "      <td>MALE</td>\n",
       "    </tr>\n",
       "    <tr>\n",
       "      <th>1</th>\n",
       "      <td>Adelie</td>\n",
       "      <td>Torgersen</td>\n",
       "      <td>39.5</td>\n",
       "      <td>17.4</td>\n",
       "      <td>186.0</td>\n",
       "      <td>3800.0</td>\n",
       "      <td>FEMALE</td>\n",
       "    </tr>\n",
       "    <tr>\n",
       "      <th>2</th>\n",
       "      <td>Adelie</td>\n",
       "      <td>Torgersen</td>\n",
       "      <td>40.3</td>\n",
       "      <td>18.0</td>\n",
       "      <td>195.0</td>\n",
       "      <td>3250.0</td>\n",
       "      <td>FEMALE</td>\n",
       "    </tr>\n",
       "    <tr>\n",
       "      <th>3</th>\n",
       "      <td>Adelie</td>\n",
       "      <td>Torgersen</td>\n",
       "      <td>NaN</td>\n",
       "      <td>NaN</td>\n",
       "      <td>NaN</td>\n",
       "      <td>NaN</td>\n",
       "      <td>NaN</td>\n",
       "    </tr>\n",
       "    <tr>\n",
       "      <th>4</th>\n",
       "      <td>Adelie</td>\n",
       "      <td>Torgersen</td>\n",
       "      <td>36.7</td>\n",
       "      <td>19.3</td>\n",
       "      <td>193.0</td>\n",
       "      <td>3450.0</td>\n",
       "      <td>FEMALE</td>\n",
       "    </tr>\n",
       "  </tbody>\n",
       "</table>\n",
       "</div>"
      ],
      "text/plain": [
       "  species     island  culmen_length_mm  culmen_depth_mm  flipper_length_mm  \\\n",
       "0  Adelie  Torgersen              39.1             18.7              181.0   \n",
       "1  Adelie  Torgersen              39.5             17.4              186.0   \n",
       "2  Adelie  Torgersen              40.3             18.0              195.0   \n",
       "3  Adelie  Torgersen               NaN              NaN                NaN   \n",
       "4  Adelie  Torgersen              36.7             19.3              193.0   \n",
       "\n",
       "   body_mass_g     sex  \n",
       "0       3750.0    MALE  \n",
       "1       3800.0  FEMALE  \n",
       "2       3250.0  FEMALE  \n",
       "3          NaN     NaN  \n",
       "4       3450.0  FEMALE  "
      ]
     },
     "execution_count": 4,
     "metadata": {},
     "output_type": "execute_result"
    }
   ],
   "source": [
    "print(penguin_size_df.shape)\n",
    "penguin_size_df.head()"
   ]
  },
  {
   "cell_type": "code",
   "execution_count": 5,
   "id": "aab7d1cd",
   "metadata": {},
   "outputs": [
    {
     "data": {
      "text/plain": [
       "species               object\n",
       "island                object\n",
       "culmen_length_mm     float64\n",
       "culmen_depth_mm      float64\n",
       "flipper_length_mm    float64\n",
       "body_mass_g          float64\n",
       "sex                   object\n",
       "dtype: object"
      ]
     },
     "execution_count": 5,
     "metadata": {},
     "output_type": "execute_result"
    }
   ],
   "source": [
    "penguin_size_df.dtypes"
   ]
  },
  {
   "cell_type": "code",
   "execution_count": 6,
   "id": "f5bbfc10",
   "metadata": {},
   "outputs": [
    {
     "data": {
      "text/plain": [
       "species    sex   \n",
       "Adelie     FEMALE    73\n",
       "           MALE      73\n",
       "Gentoo     MALE      61\n",
       "           FEMALE    58\n",
       "Chinstrap  FEMALE    34\n",
       "           MALE      34\n",
       "Gentoo     .          1\n",
       "dtype: int64"
      ]
     },
     "execution_count": 6,
     "metadata": {},
     "output_type": "execute_result"
    }
   ],
   "source": [
    "penguin_size_df[['species', \"sex\"]].value_counts()"
   ]
  },
  {
   "cell_type": "code",
   "execution_count": 7,
   "id": "3d4c8ef3",
   "metadata": {},
   "outputs": [
    {
     "data": {
      "text/html": [
       "<div>\n",
       "<style scoped>\n",
       "    .dataframe tbody tr th:only-of-type {\n",
       "        vertical-align: middle;\n",
       "    }\n",
       "\n",
       "    .dataframe tbody tr th {\n",
       "        vertical-align: top;\n",
       "    }\n",
       "\n",
       "    .dataframe thead th {\n",
       "        text-align: right;\n",
       "    }\n",
       "</style>\n",
       "<table border=\"1\" class=\"dataframe\">\n",
       "  <thead>\n",
       "    <tr style=\"text-align: right;\">\n",
       "      <th></th>\n",
       "      <th>species</th>\n",
       "      <th>island</th>\n",
       "      <th>culmen_length_mm</th>\n",
       "      <th>culmen_depth_mm</th>\n",
       "      <th>flipper_length_mm</th>\n",
       "      <th>body_mass_g</th>\n",
       "      <th>sex</th>\n",
       "    </tr>\n",
       "  </thead>\n",
       "  <tbody>\n",
       "  </tbody>\n",
       "</table>\n",
       "</div>"
      ],
      "text/plain": [
       "Empty DataFrame\n",
       "Columns: [species, island, culmen_length_mm, culmen_depth_mm, flipper_length_mm, body_mass_g, sex]\n",
       "Index: []"
      ]
     },
     "execution_count": 7,
     "metadata": {},
     "output_type": "execute_result"
    }
   ],
   "source": [
    "if len(penguin_size_df [ penguin_size_df[\"sex\"]==\".\" ]) > 0:\n",
    "    drop_index = penguin_size_df[ penguin_size_df['sex'] ==\".\"].index\n",
    "    penguin_size_df.drop(drop_index, axis=\"index\", inplace=True)\n",
    "\n",
    "penguin_size_df.dropna(inplace=True)\n",
    "\n",
    "penguin_size_df[ ~penguin_size_df[\"sex\"].isin([\"MALE\", \"FEMALE\"]) ]"
   ]
  },
  {
   "cell_type": "code",
   "execution_count": 8,
   "id": "eaa38194",
   "metadata": {},
   "outputs": [
    {
     "name": "stdout",
     "output_type": "stream",
     "text": [
      "(333, 7)\n"
     ]
    },
    {
     "data": {
      "text/html": [
       "<div>\n",
       "<style scoped>\n",
       "    .dataframe tbody tr th:only-of-type {\n",
       "        vertical-align: middle;\n",
       "    }\n",
       "\n",
       "    .dataframe tbody tr th {\n",
       "        vertical-align: top;\n",
       "    }\n",
       "\n",
       "    .dataframe thead th {\n",
       "        text-align: right;\n",
       "    }\n",
       "</style>\n",
       "<table border=\"1\" class=\"dataframe\">\n",
       "  <thead>\n",
       "    <tr style=\"text-align: right;\">\n",
       "      <th></th>\n",
       "      <th>species</th>\n",
       "      <th>island</th>\n",
       "      <th>culmen_length_mm</th>\n",
       "      <th>culmen_depth_mm</th>\n",
       "      <th>flipper_length_mm</th>\n",
       "      <th>body_mass_g</th>\n",
       "      <th>sex</th>\n",
       "    </tr>\n",
       "  </thead>\n",
       "  <tbody>\n",
       "    <tr>\n",
       "      <th>0</th>\n",
       "      <td>Adelie</td>\n",
       "      <td>Torgersen</td>\n",
       "      <td>39.1</td>\n",
       "      <td>18.7</td>\n",
       "      <td>181.0</td>\n",
       "      <td>3750.0</td>\n",
       "      <td>MALE</td>\n",
       "    </tr>\n",
       "    <tr>\n",
       "      <th>1</th>\n",
       "      <td>Adelie</td>\n",
       "      <td>Torgersen</td>\n",
       "      <td>39.5</td>\n",
       "      <td>17.4</td>\n",
       "      <td>186.0</td>\n",
       "      <td>3800.0</td>\n",
       "      <td>FEMALE</td>\n",
       "    </tr>\n",
       "    <tr>\n",
       "      <th>2</th>\n",
       "      <td>Adelie</td>\n",
       "      <td>Torgersen</td>\n",
       "      <td>40.3</td>\n",
       "      <td>18.0</td>\n",
       "      <td>195.0</td>\n",
       "      <td>3250.0</td>\n",
       "      <td>FEMALE</td>\n",
       "    </tr>\n",
       "    <tr>\n",
       "      <th>4</th>\n",
       "      <td>Adelie</td>\n",
       "      <td>Torgersen</td>\n",
       "      <td>36.7</td>\n",
       "      <td>19.3</td>\n",
       "      <td>193.0</td>\n",
       "      <td>3450.0</td>\n",
       "      <td>FEMALE</td>\n",
       "    </tr>\n",
       "    <tr>\n",
       "      <th>5</th>\n",
       "      <td>Adelie</td>\n",
       "      <td>Torgersen</td>\n",
       "      <td>39.3</td>\n",
       "      <td>20.6</td>\n",
       "      <td>190.0</td>\n",
       "      <td>3650.0</td>\n",
       "      <td>MALE</td>\n",
       "    </tr>\n",
       "  </tbody>\n",
       "</table>\n",
       "</div>"
      ],
      "text/plain": [
       "  species     island  culmen_length_mm  culmen_depth_mm  flipper_length_mm  \\\n",
       "0  Adelie  Torgersen              39.1             18.7              181.0   \n",
       "1  Adelie  Torgersen              39.5             17.4              186.0   \n",
       "2  Adelie  Torgersen              40.3             18.0              195.0   \n",
       "4  Adelie  Torgersen              36.7             19.3              193.0   \n",
       "5  Adelie  Torgersen              39.3             20.6              190.0   \n",
       "\n",
       "   body_mass_g     sex  \n",
       "0       3750.0    MALE  \n",
       "1       3800.0  FEMALE  \n",
       "2       3250.0  FEMALE  \n",
       "4       3450.0  FEMALE  \n",
       "5       3650.0    MALE  "
      ]
     },
     "execution_count": 8,
     "metadata": {},
     "output_type": "execute_result"
    }
   ],
   "source": [
    "print(penguin_size_df.shape )\n",
    "penguin_size_df.head()"
   ]
  },
  {
   "cell_type": "code",
   "execution_count": 9,
   "id": "2388f995",
   "metadata": {},
   "outputs": [
    {
     "data": {
      "text/html": [
       "<div>\n",
       "<style scoped>\n",
       "    .dataframe tbody tr th:only-of-type {\n",
       "        vertical-align: middle;\n",
       "    }\n",
       "\n",
       "    .dataframe tbody tr th {\n",
       "        vertical-align: top;\n",
       "    }\n",
       "\n",
       "    .dataframe thead th {\n",
       "        text-align: right;\n",
       "    }\n",
       "</style>\n",
       "<table border=\"1\" class=\"dataframe\">\n",
       "  <thead>\n",
       "    <tr style=\"text-align: right;\">\n",
       "      <th></th>\n",
       "      <th>body_mass_g</th>\n",
       "      <th>group</th>\n",
       "    </tr>\n",
       "  </thead>\n",
       "  <tbody>\n",
       "    <tr>\n",
       "      <th>0</th>\n",
       "      <td>3750.0</td>\n",
       "      <td>Adelie_MALE</td>\n",
       "    </tr>\n",
       "    <tr>\n",
       "      <th>1</th>\n",
       "      <td>3800.0</td>\n",
       "      <td>Adelie_FEMALE</td>\n",
       "    </tr>\n",
       "    <tr>\n",
       "      <th>2</th>\n",
       "      <td>3250.0</td>\n",
       "      <td>Adelie_FEMALE</td>\n",
       "    </tr>\n",
       "    <tr>\n",
       "      <th>4</th>\n",
       "      <td>3450.0</td>\n",
       "      <td>Adelie_FEMALE</td>\n",
       "    </tr>\n",
       "    <tr>\n",
       "      <th>5</th>\n",
       "      <td>3650.0</td>\n",
       "      <td>Adelie_MALE</td>\n",
       "    </tr>\n",
       "    <tr>\n",
       "      <th>...</th>\n",
       "      <td>...</td>\n",
       "      <td>...</td>\n",
       "    </tr>\n",
       "    <tr>\n",
       "      <th>338</th>\n",
       "      <td>4925.0</td>\n",
       "      <td>Gentoo_FEMALE</td>\n",
       "    </tr>\n",
       "    <tr>\n",
       "      <th>340</th>\n",
       "      <td>4850.0</td>\n",
       "      <td>Gentoo_FEMALE</td>\n",
       "    </tr>\n",
       "    <tr>\n",
       "      <th>341</th>\n",
       "      <td>5750.0</td>\n",
       "      <td>Gentoo_MALE</td>\n",
       "    </tr>\n",
       "    <tr>\n",
       "      <th>342</th>\n",
       "      <td>5200.0</td>\n",
       "      <td>Gentoo_FEMALE</td>\n",
       "    </tr>\n",
       "    <tr>\n",
       "      <th>343</th>\n",
       "      <td>5400.0</td>\n",
       "      <td>Gentoo_MALE</td>\n",
       "    </tr>\n",
       "  </tbody>\n",
       "</table>\n",
       "<p>333 rows × 2 columns</p>\n",
       "</div>"
      ],
      "text/plain": [
       "     body_mass_g          group\n",
       "0         3750.0    Adelie_MALE\n",
       "1         3800.0  Adelie_FEMALE\n",
       "2         3250.0  Adelie_FEMALE\n",
       "4         3450.0  Adelie_FEMALE\n",
       "5         3650.0    Adelie_MALE\n",
       "..           ...            ...\n",
       "338       4925.0  Gentoo_FEMALE\n",
       "340       4850.0  Gentoo_FEMALE\n",
       "341       5750.0    Gentoo_MALE\n",
       "342       5200.0  Gentoo_FEMALE\n",
       "343       5400.0    Gentoo_MALE\n",
       "\n",
       "[333 rows x 2 columns]"
      ]
     },
     "execution_count": 9,
     "metadata": {},
     "output_type": "execute_result"
    }
   ],
   "source": [
    "df_long = penguin_size_df[['species', 'sex', 'body_mass_g']].copy()\n",
    "df_long['group'] = df_long['species'] + \"_\" + df_long['sex']\n",
    "df_long.drop(['species', 'sex'], axis='columns', inplace=True)\n",
    "df_long"
   ]
  },
  {
   "cell_type": "code",
   "execution_count": 10,
   "id": "11d72088",
   "metadata": {},
   "outputs": [
    {
     "data": {
      "text/plain": [
       "group\n",
       "Adelie_FEMALE       [3800.0, 3250.0, 3450.0, 3625.0, 3200.0, 3700....\n",
       "Adelie_MALE         [3750.0, 3650.0, 4675.0, 3800.0, 4400.0, 4500....\n",
       "Chinstrap_FEMALE    [3500.0, 3525.0, 3950.0, 3250.0, 4150.0, 3800....\n",
       "Chinstrap_MALE      [3900.0, 3650.0, 3725.0, 3750.0, 3700.0, 3775....\n",
       "Gentoo_FEMALE       [4500.0, 4450.0, 4550.0, 4800.0, 4400.0, 4650....\n",
       "Gentoo_MALE         [5700.0, 5700.0, 5400.0, 5200.0, 5150.0, 5550....\n",
       "Name: body_mass_g, dtype: object"
      ]
     },
     "execution_count": 10,
     "metadata": {},
     "output_type": "execute_result"
    }
   ],
   "source": [
    "body_mass_list = df_long.groupby([\"group\"])[\"body_mass_g\"].apply(list)\n",
    "body_mass_list"
   ]
  },
  {
   "cell_type": "code",
   "execution_count": 11,
   "id": "556ff344",
   "metadata": {},
   "outputs": [
    {
     "data": {
      "text/plain": [
       "['Adelie_FEMALE',\n",
       " 'Adelie_MALE',\n",
       " 'Chinstrap_FEMALE',\n",
       " 'Chinstrap_MALE',\n",
       " 'Gentoo_FEMALE',\n",
       " 'Gentoo_MALE']"
      ]
     },
     "execution_count": 11,
     "metadata": {},
     "output_type": "execute_result"
    }
   ],
   "source": [
    "names = body_mass_list.index.to_list()\n",
    "names"
   ]
  },
  {
   "cell_type": "code",
   "execution_count": 12,
   "id": "9285211c",
   "metadata": {},
   "outputs": [
    {
     "data": {
      "text/html": [
       "<div>\n",
       "<style scoped>\n",
       "    .dataframe tbody tr th:only-of-type {\n",
       "        vertical-align: middle;\n",
       "    }\n",
       "\n",
       "    .dataframe tbody tr th {\n",
       "        vertical-align: top;\n",
       "    }\n",
       "\n",
       "    .dataframe thead th {\n",
       "        text-align: right;\n",
       "    }\n",
       "</style>\n",
       "<table border=\"1\" class=\"dataframe\">\n",
       "  <thead>\n",
       "    <tr style=\"text-align: right;\">\n",
       "      <th></th>\n",
       "      <th>Adelie_FEMALE</th>\n",
       "      <th>Adelie_MALE</th>\n",
       "      <th>Chinstrap_FEMALE</th>\n",
       "      <th>Chinstrap_MALE</th>\n",
       "      <th>Gentoo_FEMALE</th>\n",
       "      <th>Gentoo_MALE</th>\n",
       "    </tr>\n",
       "  </thead>\n",
       "  <tbody>\n",
       "    <tr>\n",
       "      <th>0</th>\n",
       "      <td>3800.0</td>\n",
       "      <td>3750.0</td>\n",
       "      <td>3500.0</td>\n",
       "      <td>3900.0</td>\n",
       "      <td>4500.0</td>\n",
       "      <td>5700.0</td>\n",
       "    </tr>\n",
       "    <tr>\n",
       "      <th>1</th>\n",
       "      <td>3250.0</td>\n",
       "      <td>3650.0</td>\n",
       "      <td>3525.0</td>\n",
       "      <td>3650.0</td>\n",
       "      <td>4450.0</td>\n",
       "      <td>5700.0</td>\n",
       "    </tr>\n",
       "    <tr>\n",
       "      <th>2</th>\n",
       "      <td>3450.0</td>\n",
       "      <td>4675.0</td>\n",
       "      <td>3950.0</td>\n",
       "      <td>3725.0</td>\n",
       "      <td>4550.0</td>\n",
       "      <td>5400.0</td>\n",
       "    </tr>\n",
       "    <tr>\n",
       "      <th>3</th>\n",
       "      <td>3625.0</td>\n",
       "      <td>3800.0</td>\n",
       "      <td>3250.0</td>\n",
       "      <td>3750.0</td>\n",
       "      <td>4800.0</td>\n",
       "      <td>5200.0</td>\n",
       "    </tr>\n",
       "    <tr>\n",
       "      <th>4</th>\n",
       "      <td>3200.0</td>\n",
       "      <td>4400.0</td>\n",
       "      <td>4150.0</td>\n",
       "      <td>3700.0</td>\n",
       "      <td>4400.0</td>\n",
       "      <td>5150.0</td>\n",
       "    </tr>\n",
       "    <tr>\n",
       "      <th>...</th>\n",
       "      <td>...</td>\n",
       "      <td>...</td>\n",
       "      <td>...</td>\n",
       "      <td>...</td>\n",
       "      <td>...</td>\n",
       "      <td>...</td>\n",
       "    </tr>\n",
       "    <tr>\n",
       "      <th>68</th>\n",
       "      <td>3050.0</td>\n",
       "      <td>3725.0</td>\n",
       "      <td>NaN</td>\n",
       "      <td>NaN</td>\n",
       "      <td>NaN</td>\n",
       "      <td>NaN</td>\n",
       "    </tr>\n",
       "    <tr>\n",
       "      <th>69</th>\n",
       "      <td>3000.0</td>\n",
       "      <td>3650.0</td>\n",
       "      <td>NaN</td>\n",
       "      <td>NaN</td>\n",
       "      <td>NaN</td>\n",
       "      <td>NaN</td>\n",
       "    </tr>\n",
       "    <tr>\n",
       "      <th>70</th>\n",
       "      <td>3475.0</td>\n",
       "      <td>4250.0</td>\n",
       "      <td>NaN</td>\n",
       "      <td>NaN</td>\n",
       "      <td>NaN</td>\n",
       "      <td>NaN</td>\n",
       "    </tr>\n",
       "    <tr>\n",
       "      <th>71</th>\n",
       "      <td>3450.0</td>\n",
       "      <td>3750.0</td>\n",
       "      <td>NaN</td>\n",
       "      <td>NaN</td>\n",
       "      <td>NaN</td>\n",
       "      <td>NaN</td>\n",
       "    </tr>\n",
       "    <tr>\n",
       "      <th>72</th>\n",
       "      <td>3700.0</td>\n",
       "      <td>4000.0</td>\n",
       "      <td>NaN</td>\n",
       "      <td>NaN</td>\n",
       "      <td>NaN</td>\n",
       "      <td>NaN</td>\n",
       "    </tr>\n",
       "  </tbody>\n",
       "</table>\n",
       "<p>73 rows × 6 columns</p>\n",
       "</div>"
      ],
      "text/plain": [
       "    Adelie_FEMALE  Adelie_MALE  Chinstrap_FEMALE  Chinstrap_MALE  \\\n",
       "0          3800.0       3750.0            3500.0          3900.0   \n",
       "1          3250.0       3650.0            3525.0          3650.0   \n",
       "2          3450.0       4675.0            3950.0          3725.0   \n",
       "3          3625.0       3800.0            3250.0          3750.0   \n",
       "4          3200.0       4400.0            4150.0          3700.0   \n",
       "..            ...          ...               ...             ...   \n",
       "68         3050.0       3725.0               NaN             NaN   \n",
       "69         3000.0       3650.0               NaN             NaN   \n",
       "70         3475.0       4250.0               NaN             NaN   \n",
       "71         3450.0       3750.0               NaN             NaN   \n",
       "72         3700.0       4000.0               NaN             NaN   \n",
       "\n",
       "    Gentoo_FEMALE  Gentoo_MALE  \n",
       "0          4500.0       5700.0  \n",
       "1          4450.0       5700.0  \n",
       "2          4550.0       5400.0  \n",
       "3          4800.0       5200.0  \n",
       "4          4400.0       5150.0  \n",
       "..            ...          ...  \n",
       "68            NaN          NaN  \n",
       "69            NaN          NaN  \n",
       "70            NaN          NaN  \n",
       "71            NaN          NaN  \n",
       "72            NaN          NaN  \n",
       "\n",
       "[73 rows x 6 columns]"
      ]
     },
     "execution_count": 12,
     "metadata": {},
     "output_type": "execute_result"
    }
   ],
   "source": [
    "dict_lists={}\n",
    "for i in range(len(body_mass_list)):\n",
    "    dict_lists[body_mass_list.index[i]] = body_mass_list[i]\n",
    "df = pd.DataFrame.from_dict(dict_lists, orient='index').T  \n",
    "df"
   ]
  },
  {
   "cell_type": "code",
   "execution_count": null,
   "id": "2401c875",
   "metadata": {},
   "outputs": [],
   "source": []
  },
  {
   "cell_type": "markdown",
   "id": "aecd61a1",
   "metadata": {},
   "source": [
    "## Pandas Boxplots"
   ]
  },
  {
   "cell_type": "code",
   "execution_count": 13,
   "id": "44ef4d0c",
   "metadata": {},
   "outputs": [
    {
     "data": {
      "image/png": "[encoded data removed]",
      "text/plain": [
       "<Figure size 432x288 with 1 Axes>"
      ]
     },
     "metadata": {
      "needs_background": "light"
     },
     "output_type": "display_data"
    }
   ],
   "source": [
    "# https://pandas.pydata.org/docs/reference/api/pandas.DataFrame.boxplot.html \n",
    "boxplot_pandas = df.boxplot() \n",
    "plt.xticks(rotation = 45);"
   ]
  },
  {
   "cell_type": "code",
   "execution_count": null,
   "id": "e79e14a2",
   "metadata": {},
   "outputs": [],
   "source": []
  },
  {
   "cell_type": "markdown",
   "id": "4d154bdd",
   "metadata": {},
   "source": [
    "## Matplotlib Boxplots"
   ]
  },
  {
   "cell_type": "code",
   "execution_count": 14,
   "id": "2ca0de2b",
   "metadata": {},
   "outputs": [
    {
     "data": {
      "image/png": "[encoded data removed]",
      "text/plain": [
       "<Figure size 432x288 with 1 Axes>"
      ]
     },
     "metadata": {
      "needs_background": "light"
     },
     "output_type": "display_data"
    }
   ],
   "source": [
    "# note:  Need to use a list of lists to make this work.  Using the Dataframe does not work due to the NaN values in the dataframe\n",
    "# https://matplotlib.org/3.5.0/api/_as_gen/matplotlib.pyplot.boxplot.html \n",
    "names = df.columns\n",
    "plt.boxplot(body_mass_list, labels = names)\n",
    "plt.xticks(rotation = 45);"
   ]
  },
  {
   "cell_type": "code",
   "execution_count": null,
   "id": "0ff530ca",
   "metadata": {},
   "outputs": [],
   "source": []
  },
  {
   "cell_type": "markdown",
   "id": "4dc8b895",
   "metadata": {},
   "source": [
    "## Plotly Boxplots"
   ]
  },
  {
   "cell_type": "code",
   "execution_count": 16,
   "id": "e6f0cf02",
   "metadata": {},
   "outputs": [
    {
     "data": {
      "text/html": [
       "        <script type=\"text/javascript\">\n",
       "        window.PlotlyConfig = {MathJaxConfig: 'local'};\n",
       "        if (window.MathJax) {MathJax.Hub.Config({SVG: {font: \"STIX-Web\"}});}\n",
       "        if (typeof require !== 'undefined') {\n",
       "        require.undef(\"plotly\");\n",
       "        requirejs.config({\n",
       "            paths: {\n",
       "                'plotly': ['https://cdn.plot.ly/plotly-2.9.0.min']\n",
       "            }\n",
       "        });\n",
       "        require(['plotly'], function(Plotly) {\n",
       "            window._Plotly = Plotly;\n",
       "        });\n",
       "        }\n",
       "        </script>\n",
       "        "
      ]
     },
     "metadata": {},
     "output_type": "display_data"
    },
    {
     "data": {
      "application/vnd.plotly.v1+json": {
       "config": {
        "plotlyServerURL": "https://plot.ly"
       },
       "data": [
        {
         "alignmentgroup": "True",
         "hovertemplate": "variable=%{x}<br>value=%{y}<extra></extra>",
         "legendgroup": "",
         "marker": {
          "color": "#636efa"
         },
         "name": "",
         "notched": false,
         "offsetgroup": "",
         "orientation": "v",
         "showlegend": false,
         "type": "box",
         "x": [
          "Adelie_FEMALE",
          "Adelie_FEMALE",
          "Adelie_FEMALE",
          "Adelie_FEMALE",
          "Adelie_FEMALE",
          "Adelie_FEMALE",
          "Adelie_FEMALE",
          "Adelie_FEMALE",
          "Adelie_FEMALE",
          "Adelie_FEMALE",
          "Adelie_FEMALE",
          "Adelie_FEMALE",
          "Adelie_FEMALE",
          "Adelie_FEMALE",
          "Adelie_FEMALE",
          "Adelie_FEMALE",
          "Adelie_FEMALE",
          "Adelie_FEMALE",
          "Adelie_FEMALE",
          "Adelie_FEMALE",
          "Adelie_FEMALE",
          "Adelie_FEMALE",
          "Adelie_FEMALE",
          "Adelie_FEMALE",
          "Adelie_FEMALE",
          "Adelie_FEMALE",
          "Adelie_FEMALE",
          "Adelie_FEMALE",
          "Adelie_FEMALE",
          "Adelie_FEMALE",
          "Adelie_FEMALE",
          "Adelie_FEMALE",
          "Adelie_FEMALE",
          "Adelie_FEMALE",
          "Adelie_FEMALE",
          "Adelie_FEMALE",
          "Adelie_FEMALE",
          "Adelie_FEMALE",
          "Adelie_FEMALE",
          "Adelie_FEMALE",
          "Adelie_FEMALE",
          "Adelie_FEMALE",
          "Adelie_FEMALE",
          "Adelie_FEMALE",
          "Adelie_FEMALE",
          "Adelie_FEMALE",
          "Adelie_FEMALE",
          "Adelie_FEMALE",
          "Adelie_FEMALE",
          "Adelie_FEMALE",
          "Adelie_FEMALE",
          "Adelie_FEMALE",
          "Adelie_FEMALE",
          "Adelie_FEMALE",
          "Adelie_FEMALE",
          "Adelie_FEMALE",
          "Adelie_FEMALE",
          "Adelie_FEMALE",
          "Adelie_FEMALE",
          "Adelie_FEMALE",
          "Adelie_FEMALE",
          "Adelie_FEMALE",
          "Adelie_FEMALE",
          "Adelie_FEMALE",
          "Adelie_FEMALE",
          "Adelie_FEMALE",
          "Adelie_FEMALE",
          "Adelie_FEMALE",
          "Adelie_FEMALE",
          "Adelie_FEMALE",
          "Adelie_FEMALE",
          "Adelie_FEMALE",
          "Adelie_FEMALE",
          "Adelie_MALE",
          "Adelie_MALE",
          "Adelie_MALE",
          "Adelie_MALE",
          "Adelie_MALE",
          "Adelie_MALE",
          "Adelie_MALE",
          "Adelie_MALE",
          "Adelie_MALE",
          "Adelie_MALE",
          "Adelie_MALE",
          "Adelie_MALE",
          "Adelie_MALE",
          "Adelie_MALE",
          "Adelie_MALE",
          "Adelie_MALE",
          "Adelie_MALE",
          "Adelie_MALE",
          "Adelie_MALE",
          "Adelie_MALE",
          "Adelie_MALE",
          "Adelie_MALE",
          "Adelie_MALE",
          "Adelie_MALE",
          "Adelie_MALE",
          "Adelie_MALE",
          "Adelie_MALE",
          "Adelie_MALE",
          "Adelie_MALE",
          "Adelie_MALE",
          "Adelie_MALE",
          "Adelie_MALE",
          "Adelie_MALE",
          "Adelie_MALE",
          "Adelie_MALE",
          "Adelie_MALE",
          "Adelie_MALE",
          "Adelie_MALE",
          "Adelie_MALE",
          "Adelie_MALE",
          "Adelie_MALE",
          "Adelie_MALE",
          "Adelie_MALE",
          "Adelie_MALE",
          "Adelie_MALE",
          "Adelie_MALE",
          "Adelie_MALE",
          "Adelie_MALE",
          "Adelie_MALE",
          "Adelie_MALE",
          "Adelie_MALE",
          "Adelie_MALE",
          "Adelie_MALE",
          "Adelie_MALE",
          "Adelie_MALE",
          "Adelie_MALE",
          "Adelie_MALE",
          "Adelie_MALE",
          "Adelie_MALE",
          "Adelie_MALE",
          "Adelie_MALE",
          "Adelie_MALE",
          "Adelie_MALE",
          "Adelie_MALE",
          "Adelie_MALE",
          "Adelie_MALE",
          "Adelie_MALE",
          "Adelie_MALE",
          "Adelie_MALE",
          "Adelie_MALE",
          "Adelie_MALE",
          "Adelie_MALE",
          "Adelie_MALE",
          "Chinstrap_FEMALE",
          "Chinstrap_FEMALE",
          "Chinstrap_FEMALE",
          "Chinstrap_FEMALE",
          "Chinstrap_FEMALE",
          "Chinstrap_FEMALE",
          "Chinstrap_FEMALE",
          "Chinstrap_FEMALE",
          "Chinstrap_FEMALE",
          "Chinstrap_FEMALE",
          "Chinstrap_FEMALE",
          "Chinstrap_FEMALE",
          "Chinstrap_FEMALE",
          "Chinstrap_FEMALE",
          "Chinstrap_FEMALE",
          "Chinstrap_FEMALE",
          "Chinstrap_FEMALE",
          "Chinstrap_FEMALE",
          "Chinstrap_FEMALE",
          "Chinstrap_FEMALE",
          "Chinstrap_FEMALE",
          "Chinstrap_FEMALE",
          "Chinstrap_FEMALE",
          "Chinstrap_FEMALE",
          "Chinstrap_FEMALE",
          "Chinstrap_FEMALE",
          "Chinstrap_FEMALE",
          "Chinstrap_FEMALE",
          "Chinstrap_FEMALE",
          "Chinstrap_FEMALE",
          "Chinstrap_FEMALE",
          "Chinstrap_FEMALE",
          "Chinstrap_FEMALE",
          "Chinstrap_FEMALE",
          "Chinstrap_FEMALE",
          "Chinstrap_FEMALE",
          "Chinstrap_FEMALE",
          "Chinstrap_FEMALE",
          "Chinstrap_FEMALE",
          "Chinstrap_FEMALE",
          "Chinstrap_FEMALE",
          "Chinstrap_FEMALE",
          "Chinstrap_FEMALE",
          "Chinstrap_FEMALE",
          "Chinstrap_FEMALE",
          "Chinstrap_FEMALE",
          "Chinstrap_FEMALE",
          "Chinstrap_FEMALE",
          "Chinstrap_FEMALE",
          "Chinstrap_FEMALE",
          "Chinstrap_FEMALE",
          "Chinstrap_FEMALE",
          "Chinstrap_FEMALE",
          "Chinstrap_FEMALE",
          "Chinstrap_FEMALE",
          "Chinstrap_FEMALE",
          "Chinstrap_FEMALE",
          "Chinstrap_FEMALE",
          "Chinstrap_FEMALE",
          "Chinstrap_FEMALE",
          "Chinstrap_FEMALE",
          "Chinstrap_FEMALE",
          "Chinstrap_FEMALE",
          "Chinstrap_FEMALE",
          "Chinstrap_FEMALE",
          "Chinstrap_FEMALE",
          "Chinstrap_FEMALE",
          "Chinstrap_FEMALE",
          "Chinstrap_FEMALE",
          "Chinstrap_FEMALE",
          "Chinstrap_FEMALE",
          "Chinstrap_FEMALE",
          "Chinstrap_FEMALE",
          "Chinstrap_MALE",
          "Chinstrap_MALE",
          "Chinstrap_MALE",
          "Chinstrap_MALE",
          "Chinstrap_MALE",
          "Chinstrap_MALE",
          "Chinstrap_MALE",
          "Chinstrap_MALE",
          "Chinstrap_MALE",
          "Chinstrap_MALE",
          "Chinstrap_MALE",
          "Chinstrap_MALE",
          "Chinstrap_MALE",
          "Chinstrap_MALE",
          "Chinstrap_MALE",
          "Chinstrap_MALE",
          "Chinstrap_MALE",
          "Chinstrap_MALE",
          "Chinstrap_MALE",
          "Chinstrap_MALE",
          "Chinstrap_MALE",
          "Chinstrap_MALE",
          "Chinstrap_MALE",
          "Chinstrap_MALE",
          "Chinstrap_MALE",
          "Chinstrap_MALE",
          "Chinstrap_MALE",
          "Chinstrap_MALE",
          "Chinstrap_MALE",
          "Chinstrap_MALE",
          "Chinstrap_MALE",
          "Chinstrap_MALE",
          "Chinstrap_MALE",
          "Chinstrap_MALE",
          "Chinstrap_MALE",
          "Chinstrap_MALE",
          "Chinstrap_MALE",
          "Chinstrap_MALE",
          "Chinstrap_MALE",
          "Chinstrap_MALE",
          "Chinstrap_MALE",
          "Chinstrap_MALE",
          "Chinstrap_MALE",
          "Chinstrap_MALE",
          "Chinstrap_MALE",
          "Chinstrap_MALE",
          "Chinstrap_MALE",
          "Chinstrap_MALE",
          "Chinstrap_MALE",
          "Chinstrap_MALE",
          "Chinstrap_MALE",
          "Chinstrap_MALE",
          "Chinstrap_MALE",
          "Chinstrap_MALE",
          "Chinstrap_MALE",
          "Chinstrap_MALE",
          "Chinstrap_MALE",
          "Chinstrap_MALE",
          "Chinstrap_MALE",
          "Chinstrap_MALE",
          "Chinstrap_MALE",
          "Chinstrap_MALE",
          "Chinstrap_MALE",
          "Chinstrap_MALE",
          "Chinstrap_MALE",
          "Chinstrap_MALE",
          "Chinstrap_MALE",
          "Chinstrap_MALE",
          "Chinstrap_MALE",
          "Chinstrap_MALE",
          "Chinstrap_MALE",
          "Chinstrap_MALE",
          "Chinstrap_MALE",
          "Gentoo_FEMALE",
          "Gentoo_FEMALE",
          "Gentoo_FEMALE",
          "Gentoo_FEMALE",
          "Gentoo_FEMALE",
          "Gentoo_FEMALE",
          "Gentoo_FEMALE",
          "Gentoo_FEMALE",
          "Gentoo_FEMALE",
          "Gentoo_FEMALE",
          "Gentoo_FEMALE",
          "Gentoo_FEMALE",
          "Gentoo_FEMALE",
          "Gentoo_FEMALE",
          "Gentoo_FEMALE",
          "Gentoo_FEMALE",
          "Gentoo_FEMALE",
          "Gentoo_FEMALE",
          "Gentoo_FEMALE",
          "Gentoo_FEMALE",
          "Gentoo_FEMALE",
          "Gentoo_FEMALE",
          "Gentoo_FEMALE",
          "Gentoo_FEMALE",
          "Gentoo_FEMALE",
          "Gentoo_FEMALE",
          "Gentoo_FEMALE",
          "Gentoo_FEMALE",
          "Gentoo_FEMALE",
          "Gentoo_FEMALE",
          "Gentoo_FEMALE",
          "Gentoo_FEMALE",
          "Gentoo_FEMALE",
          "Gentoo_FEMALE",
          "Gentoo_FEMALE",
          "Gentoo_FEMALE",
          "Gentoo_FEMALE",
          "Gentoo_FEMALE",
          "Gentoo_FEMALE",
          "Gentoo_FEMALE",
          "Gentoo_FEMALE",
          "Gentoo_FEMALE",
          "Gentoo_FEMALE",
          "Gentoo_FEMALE",
          "Gentoo_FEMALE",
          "Gentoo_FEMALE",
          "Gentoo_FEMALE",
          "Gentoo_FEMALE",
          "Gentoo_FEMALE",
          "Gentoo_FEMALE",
          "Gentoo_FEMALE",
          "Gentoo_FEMALE",
          "Gentoo_FEMALE",
          "Gentoo_FEMALE",
          "Gentoo_FEMALE",
          "Gentoo_FEMALE",
          "Gentoo_FEMALE",
          "Gentoo_FEMALE",
          "Gentoo_FEMALE",
          "Gentoo_FEMALE",
          "Gentoo_FEMALE",
          "Gentoo_FEMALE",
          "Gentoo_FEMALE",
          "Gentoo_FEMALE",
          "Gentoo_FEMALE",
          "Gentoo_FEMALE",
          "Gentoo_FEMALE",
          "Gentoo_FEMALE",
          "Gentoo_FEMALE",
          "Gentoo_FEMALE",
          "Gentoo_FEMALE",
          "Gentoo_FEMALE",
          "Gentoo_FEMALE",
          "Gentoo_MALE",
          "Gentoo_MALE",
          "Gentoo_MALE",
          "Gentoo_MALE",
          "Gentoo_MALE",
          "Gentoo_MALE",
          "Gentoo_MALE",
          "Gentoo_MALE",
          "Gentoo_MALE",
          "Gentoo_MALE",
          "Gentoo_MALE",
          "Gentoo_MALE",
          "Gentoo_MALE",
          "Gentoo_MALE",
          "Gentoo_MALE",
          "Gentoo_MALE",
          "Gentoo_MALE",
          "Gentoo_MALE",
          "Gentoo_MALE",
          "Gentoo_MALE",
          "Gentoo_MALE",
          "Gentoo_MALE",
          "Gentoo_MALE",
          "Gentoo_MALE",
          "Gentoo_MALE",
          "Gentoo_MALE",
          "Gentoo_MALE",
          "Gentoo_MALE",
          "Gentoo_MALE",
          "Gentoo_MALE",
          "Gentoo_MALE",
          "Gentoo_MALE",
          "Gentoo_MALE",
          "Gentoo_MALE",
          "Gentoo_MALE",
          "Gentoo_MALE",
          "Gentoo_MALE",
          "Gentoo_MALE",
          "Gentoo_MALE",
          "Gentoo_MALE",
          "Gentoo_MALE",
          "Gentoo_MALE",
          "Gentoo_MALE",
          "Gentoo_MALE",
          "Gentoo_MALE",
          "Gentoo_MALE",
          "Gentoo_MALE",
          "Gentoo_MALE",
          "Gentoo_MALE",
          "Gentoo_MALE",
          "Gentoo_MALE",
          "Gentoo_MALE",
          "Gentoo_MALE",
          "Gentoo_MALE",
          "Gentoo_MALE",
          "Gentoo_MALE",
          "Gentoo_MALE",
          "Gentoo_MALE",
          "Gentoo_MALE",
          "Gentoo_MALE",
          "Gentoo_MALE",
          "Gentoo_MALE",
          "Gentoo_MALE",
          "Gentoo_MALE",
          "Gentoo_MALE",
          "Gentoo_MALE",
          "Gentoo_MALE",
          "Gentoo_MALE",
          "Gentoo_MALE",
          "Gentoo_MALE",
          "Gentoo_MALE",
          "Gentoo_MALE",
          "Gentoo_MALE"
         ],
         "x0": " ",
         "xaxis": "x",
         "y": [
          3800,
          3250,
          3450,
          3625,
          3200,
          3700,
          3450,
          3325,
          3400,
          3800,
          3800,
          3200,
          3150,
          3250,
          3300,
          3325,
          3550,
          3300,
          3150,
          3100,
          3000,
          3450,
          3500,
          3450,
          2900,
          3550,
          2850,
          3150,
          3600,
          2850,
          3350,
          3050,
          3600,
          3550,
          3700,
          3700,
          3550,
          3200,
          3800,
          3350,
          3500,
          3600,
          3550,
          3400,
          3300,
          3700,
          2900,
          3725,
          3075,
          2925,
          3750,
          3175,
          3825,
          3200,
          3900,
          2900,
          3350,
          3150,
          3450,
          3050,
          3275,
          3050,
          3325,
          3500,
          3425,
          3175,
          3400,
          3400,
          3050,
          3000,
          3475,
          3450,
          3700,
          3750,
          3650,
          4675,
          3800,
          4400,
          4500,
          4200,
          3600,
          3950,
          3800,
          3550,
          3950,
          3900,
          3900,
          4150,
          3950,
          4650,
          3900,
          4400,
          4600,
          3425,
          4150,
          4300,
          4050,
          3700,
          3800,
          3750,
          4400,
          4050,
          3950,
          4100,
          4450,
          3900,
          4150,
          4250,
          3900,
          4000,
          4700,
          4200,
          3550,
          3800,
          3950,
          4300,
          4450,
          4300,
          4350,
          4100,
          4725,
          4250,
          3550,
          3900,
          4775,
          4600,
          4275,
          4075,
          3775,
          3325,
          3500,
          3875,
          4000,
          4300,
          4000,
          3500,
          4475,
          3900,
          3975,
          4250,
          3475,
          3725,
          3650,
          4250,
          3750,
          4000,
          3500,
          3525,
          3950,
          3250,
          4150,
          3800,
          3700,
          3575,
          3700,
          3450,
          3600,
          2900,
          3300,
          3400,
          3700,
          3200,
          3350,
          3900,
          3850,
          2700,
          3650,
          3500,
          3675,
          3400,
          3675,
          3325,
          3600,
          3350,
          3250,
          3525,
          3650,
          3650,
          3400,
          3775,
          null,
          null,
          null,
          null,
          null,
          null,
          null,
          null,
          null,
          null,
          null,
          null,
          null,
          null,
          null,
          null,
          null,
          null,
          null,
          null,
          null,
          null,
          null,
          null,
          null,
          null,
          null,
          null,
          null,
          null,
          null,
          null,
          null,
          null,
          null,
          null,
          null,
          null,
          null,
          3900,
          3650,
          3725,
          3750,
          3700,
          3775,
          4050,
          4050,
          3300,
          4400,
          3400,
          3800,
          4150,
          3800,
          4550,
          4300,
          4100,
          3600,
          4800,
          4500,
          3950,
          3550,
          4450,
          4300,
          3250,
          3950,
          4050,
          3450,
          4050,
          3800,
          3950,
          4000,
          3775,
          4100,
          null,
          null,
          null,
          null,
          null,
          null,
          null,
          null,
          null,
          null,
          null,
          null,
          null,
          null,
          null,
          null,
          null,
          null,
          null,
          null,
          null,
          null,
          null,
          null,
          null,
          null,
          null,
          null,
          null,
          null,
          null,
          null,
          null,
          null,
          null,
          null,
          null,
          null,
          null,
          4500,
          4450,
          4550,
          4800,
          4400,
          4650,
          4650,
          4200,
          4150,
          4800,
          5000,
          4400,
          5000,
          4600,
          4700,
          5050,
          5150,
          4950,
          4350,
          3950,
          4300,
          4900,
          4200,
          5100,
          4850,
          4400,
          4900,
          4300,
          4450,
          4200,
          4400,
          4700,
          4700,
          4750,
          5200,
          4700,
          4600,
          4750,
          4625,
          4725,
          4750,
          4600,
          4875,
          4950,
          4750,
          4850,
          4875,
          4625,
          4850,
          4975,
          4700,
          4575,
          5000,
          4650,
          4375,
          4925,
          4850,
          5200,
          null,
          null,
          null,
          null,
          null,
          null,
          null,
          null,
          null,
          null,
          null,
          null,
          null,
          null,
          null,
          5700,
          5700,
          5400,
          5200,
          5150,
          5550,
          5850,
          5850,
          6300,
          5350,
          5700,
          5050,
          5100,
          5650,
          5550,
          5250,
          6050,
          5400,
          5250,
          5350,
          5700,
          4750,
          5550,
          5400,
          5300,
          5300,
          5000,
          5050,
          5000,
          5550,
          5300,
          5650,
          5700,
          5800,
          5550,
          5000,
          5100,
          5800,
          6000,
          5950,
          5450,
          5350,
          5600,
          5300,
          5550,
          5400,
          5650,
          5200,
          4925,
          5250,
          5600,
          5500,
          5500,
          5500,
          5500,
          5950,
          5500,
          5850,
          6000,
          5750,
          5400,
          null,
          null,
          null,
          null,
          null,
          null,
          null,
          null,
          null,
          null,
          null,
          null
         ],
         "y0": " ",
         "yaxis": "y"
        }
       ],
       "layout": {
        "boxmode": "group",
        "legend": {
         "tracegroupgap": 0
        },
        "margin": {
         "t": 60
        },
        "template": {
         "data": {
          "bar": [
           {
            "error_x": {
             "color": "#2a3f5f"
            },
            "error_y": {
             "color": "#2a3f5f"
            },
            "marker": {
             "line": {
              "color": "#E5ECF6",
              "width": 0.5
             },
             "pattern": {
              "fillmode": "overlay",
              "size": 10,
              "solidity": 0.2
             }
            },
            "type": "bar"
           }
          ],
          "barpolar": [
           {
            "marker": {
             "line": {
              "color": "#E5ECF6",
              "width": 0.5
             },
             "pattern": {
              "fillmode": "overlay",
              "size": 10,
              "solidity": 0.2
             }
            },
            "type": "barpolar"
           }
          ],
          "carpet": [
           {
            "aaxis": {
             "endlinecolor": "#2a3f5f",
             "gridcolor": "white",
             "linecolor": "white",
             "minorgridcolor": "white",
             "startlinecolor": "#2a3f5f"
            },
            "baxis": {
             "endlinecolor": "#2a3f5f",
             "gridcolor": "white",
             "linecolor": "white",
             "minorgridcolor": "white",
             "startlinecolor": "#2a3f5f"
            },
            "type": "carpet"
           }
          ],
          "choropleth": [
           {
            "colorbar": {
             "outlinewidth": 0,
             "ticks": ""
            },
            "type": "choropleth"
           }
          ],
          "contour": [
           {
            "colorbar": {
             "outlinewidth": 0,
             "ticks": ""
            },
            "colorscale": [
             [
              0,
              "#0d0887"
             ],
             [
              0.1111111111111111,
              "#46039f"
             ],
             [
              0.2222222222222222,
              "#7201a8"
             ],
             [
              0.3333333333333333,
              "#9c179e"
             ],
             [
              0.4444444444444444,
              "#bd3786"
             ],
             [
              0.5555555555555556,
              "#d8576b"
             ],
             [
              0.6666666666666666,
              "#ed7953"
             ],
             [
              0.7777777777777778,
              "#fb9f3a"
             ],
             [
              0.8888888888888888,
              "#fdca26"
             ],
             [
              1,
              "#f0f921"
             ]
            ],
            "type": "contour"
           }
          ],
          "contourcarpet": [
           {
            "colorbar": {
             "outlinewidth": 0,
             "ticks": ""
            },
            "type": "contourcarpet"
           }
          ],
          "heatmap": [
           {
            "colorbar": {
             "outlinewidth": 0,
             "ticks": ""
            },
            "colorscale": [
             [
              0,
              "#0d0887"
             ],
             [
              0.1111111111111111,
              "#46039f"
             ],
             [
              0.2222222222222222,
              "#7201a8"
             ],
             [
              0.3333333333333333,
              "#9c179e"
             ],
             [
              0.4444444444444444,
              "#bd3786"
             ],
             [
              0.5555555555555556,
              "#d8576b"
             ],
             [
              0.6666666666666666,
              "#ed7953"
             ],
             [
              0.7777777777777778,
              "#fb9f3a"
             ],
             [
              0.8888888888888888,
              "#fdca26"
             ],
             [
              1,
              "#f0f921"
             ]
            ],
            "type": "heatmap"
           }
          ],
          "heatmapgl": [
           {
            "colorbar": {
             "outlinewidth": 0,
             "ticks": ""
            },
            "colorscale": [
             [
              0,
              "#0d0887"
             ],
             [
              0.1111111111111111,
              "#46039f"
             ],
             [
              0.2222222222222222,
              "#7201a8"
             ],
             [
              0.3333333333333333,
              "#9c179e"
             ],
             [
              0.4444444444444444,
              "#bd3786"
             ],
             [
              0.5555555555555556,
              "#d8576b"
             ],
             [
              0.6666666666666666,
              "#ed7953"
             ],
             [
              0.7777777777777778,
              "#fb9f3a"
             ],
             [
              0.8888888888888888,
              "#fdca26"
             ],
             [
              1,
              "#f0f921"
             ]
            ],
            "type": "heatmapgl"
           }
          ],
          "histogram": [
           {
            "marker": {
             "pattern": {
              "fillmode": "overlay",
              "size": 10,
              "solidity": 0.2
             }
            },
            "type": "histogram"
           }
          ],
          "histogram2d": [
           {
            "colorbar": {
             "outlinewidth": 0,
             "ticks": ""
            },
            "colorscale": [
             [
              0,
              "#0d0887"
             ],
             [
              0.1111111111111111,
              "#46039f"
             ],
             [
              0.2222222222222222,
              "#7201a8"
             ],
             [
              0.3333333333333333,
              "#9c179e"
             ],
             [
              0.4444444444444444,
              "#bd3786"
             ],
             [
              0.5555555555555556,
              "#d8576b"
             ],
             [
              0.6666666666666666,
              "#ed7953"
             ],
             [
              0.7777777777777778,
              "#fb9f3a"
             ],
             [
              0.8888888888888888,
              "#fdca26"
             ],
             [
              1,
              "#f0f921"
             ]
            ],
            "type": "histogram2d"
           }
          ],
          "histogram2dcontour": [
           {
            "colorbar": {
             "outlinewidth": 0,
             "ticks": ""
            },
            "colorscale": [
             [
              0,
              "#0d0887"
             ],
             [
              0.1111111111111111,
              "#46039f"
             ],
             [
              0.2222222222222222,
              "#7201a8"
             ],
             [
              0.3333333333333333,
              "#9c179e"
             ],
             [
              0.4444444444444444,
              "#bd3786"
             ],
             [
              0.5555555555555556,
              "#d8576b"
             ],
             [
              0.6666666666666666,
              "#ed7953"
             ],
             [
              0.7777777777777778,
              "#fb9f3a"
             ],
             [
              0.8888888888888888,
              "#fdca26"
             ],
             [
              1,
              "#f0f921"
             ]
            ],
            "type": "histogram2dcontour"
           }
          ],
          "mesh3d": [
           {
            "colorbar": {
             "outlinewidth": 0,
             "ticks": ""
            },
            "type": "mesh3d"
           }
          ],
          "parcoords": [
           {
            "line": {
             "colorbar": {
              "outlinewidth": 0,
              "ticks": ""
             }
            },
            "type": "parcoords"
           }
          ],
          "pie": [
           {
            "automargin": true,
            "type": "pie"
           }
          ],
          "scatter": [
           {
            "marker": {
             "colorbar": {
              "outlinewidth": 0,
              "ticks": ""
             }
            },
            "type": "scatter"
           }
          ],
          "scatter3d": [
           {
            "line": {
             "colorbar": {
              "outlinewidth": 0,
              "ticks": ""
             }
            },
            "marker": {
             "colorbar": {
              "outlinewidth": 0,
              "ticks": ""
             }
            },
            "type": "scatter3d"
           }
          ],
          "scattercarpet": [
           {
            "marker": {
             "colorbar": {
              "outlinewidth": 0,
              "ticks": ""
             }
            },
            "type": "scattercarpet"
           }
          ],
          "scattergeo": [
           {
            "marker": {
             "colorbar": {
              "outlinewidth": 0,
              "ticks": ""
             }
            },
            "type": "scattergeo"
           }
          ],
          "scattergl": [
           {
            "marker": {
             "colorbar": {
              "outlinewidth": 0,
              "ticks": ""
             }
            },
            "type": "scattergl"
           }
          ],
          "scattermapbox": [
           {
            "marker": {
             "colorbar": {
              "outlinewidth": 0,
              "ticks": ""
             }
            },
            "type": "scattermapbox"
           }
          ],
          "scatterpolar": [
           {
            "marker": {
             "colorbar": {
              "outlinewidth": 0,
              "ticks": ""
             }
            },
            "type": "scatterpolar"
           }
          ],
          "scatterpolargl": [
           {
            "marker": {
             "colorbar": {
              "outlinewidth": 0,
              "ticks": ""
             }
            },
            "type": "scatterpolargl"
           }
          ],
          "scatterternary": [
           {
            "marker": {
             "colorbar": {
              "outlinewidth": 0,
              "ticks": ""
             }
            },
            "type": "scatterternary"
           }
          ],
          "surface": [
           {
            "colorbar": {
             "outlinewidth": 0,
             "ticks": ""
            },
            "colorscale": [
             [
              0,
              "#0d0887"
             ],
             [
              0.1111111111111111,
              "#46039f"
             ],
             [
              0.2222222222222222,
              "#7201a8"
             ],
             [
              0.3333333333333333,
              "#9c179e"
             ],
             [
              0.4444444444444444,
              "#bd3786"
             ],
             [
              0.5555555555555556,
              "#d8576b"
             ],
             [
              0.6666666666666666,
              "#ed7953"
             ],
             [
              0.7777777777777778,
              "#fb9f3a"
             ],
             [
              0.8888888888888888,
              "#fdca26"
             ],
             [
              1,
              "#f0f921"
             ]
            ],
            "type": "surface"
           }
          ],
          "table": [
           {
            "cells": {
             "fill": {
              "color": "#EBF0F8"
             },
             "line": {
              "color": "white"
             }
            },
            "header": {
             "fill": {
              "color": "#C8D4E3"
             },
             "line": {
              "color": "white"
             }
            },
            "type": "table"
           }
          ]
         },
         "layout": {
          "annotationdefaults": {
           "arrowcolor": "#2a3f5f",
           "arrowhead": 0,
           "arrowwidth": 1
          },
          "autotypenumbers": "strict",
          "coloraxis": {
           "colorbar": {
            "outlinewidth": 0,
            "ticks": ""
           }
          },
          "colorscale": {
           "diverging": [
            [
             0,
             "#8e0152"
            ],
            [
             0.1,
             "#c51b7d"
            ],
            [
             0.2,
             "#de77ae"
            ],
            [
             0.3,
             "#f1b6da"
            ],
            [
             0.4,
             "#fde0ef"
            ],
            [
             0.5,
             "#f7f7f7"
            ],
            [
             0.6,
             "#e6f5d0"
            ],
            [
             0.7,
             "#b8e186"
            ],
            [
             0.8,
             "#7fbc41"
            ],
            [
             0.9,
             "#4d9221"
            ],
            [
             1,
             "#276419"
            ]
           ],
           "sequential": [
            [
             0,
             "#0d0887"
            ],
            [
             0.1111111111111111,
             "#46039f"
            ],
            [
             0.2222222222222222,
             "#7201a8"
            ],
            [
             0.3333333333333333,
             "#9c179e"
            ],
            [
             0.4444444444444444,
             "#bd3786"
            ],
            [
             0.5555555555555556,
             "#d8576b"
            ],
            [
             0.6666666666666666,
             "#ed7953"
            ],
            [
             0.7777777777777778,
             "#fb9f3a"
            ],
            [
             0.8888888888888888,
             "#fdca26"
            ],
            [
             1,
             "#f0f921"
            ]
           ],
           "sequentialminus": [
            [
             0,
             "#0d0887"
            ],
            [
             0.1111111111111111,
             "#46039f"
            ],
            [
             0.2222222222222222,
             "#7201a8"
            ],
            [
             0.3333333333333333,
             "#9c179e"
            ],
            [
             0.4444444444444444,
             "#bd3786"
            ],
            [
             0.5555555555555556,
             "#d8576b"
            ],
            [
             0.6666666666666666,
             "#ed7953"
            ],
            [
             0.7777777777777778,
             "#fb9f3a"
            ],
            [
             0.8888888888888888,
             "#fdca26"
            ],
            [
             1,
             "#f0f921"
            ]
           ]
          },
          "colorway": [
           "#636efa",
           "#EF553B",
           "#00cc96",
           "#ab63fa",
           "#FFA15A",
           "#19d3f3",
           "#FF6692",
           "#B6E880",
           "#FF97FF",
           "#FECB52"
          ],
          "font": {
           "color": "#2a3f5f"
          },
          "geo": {
           "bgcolor": "white",
           "lakecolor": "white",
           "landcolor": "#E5ECF6",
           "showlakes": true,
           "showland": true,
           "subunitcolor": "white"
          },
          "hoverlabel": {
           "align": "left"
          },
          "hovermode": "closest",
          "mapbox": {
           "style": "light"
          },
          "paper_bgcolor": "white",
          "plot_bgcolor": "#E5ECF6",
          "polar": {
           "angularaxis": {
            "gridcolor": "white",
            "linecolor": "white",
            "ticks": ""
           },
           "bgcolor": "#E5ECF6",
           "radialaxis": {
            "gridcolor": "white",
            "linecolor": "white",
            "ticks": ""
           }
          },
          "scene": {
           "xaxis": {
            "backgroundcolor": "#E5ECF6",
            "gridcolor": "white",
            "gridwidth": 2,
            "linecolor": "white",
            "showbackground": true,
            "ticks": "",
            "zerolinecolor": "white"
           },
           "yaxis": {
            "backgroundcolor": "#E5ECF6",
            "gridcolor": "white",
            "gridwidth": 2,
            "linecolor": "white",
            "showbackground": true,
            "ticks": "",
            "zerolinecolor": "white"
           },
           "zaxis": {
            "backgroundcolor": "#E5ECF6",
            "gridcolor": "white",
            "gridwidth": 2,
            "linecolor": "white",
            "showbackground": true,
            "ticks": "",
            "zerolinecolor": "white"
           }
          },
          "shapedefaults": {
           "line": {
            "color": "#2a3f5f"
           }
          },
          "ternary": {
           "aaxis": {
            "gridcolor": "white",
            "linecolor": "white",
            "ticks": ""
           },
           "baxis": {
            "gridcolor": "white",
            "linecolor": "white",
            "ticks": ""
           },
           "bgcolor": "#E5ECF6",
           "caxis": {
            "gridcolor": "white",
            "linecolor": "white",
            "ticks": ""
           }
          },
          "title": {
           "x": 0.05
          },
          "xaxis": {
           "automargin": true,
           "gridcolor": "white",
           "linecolor": "white",
           "ticks": "",
           "title": {
            "standoff": 15
           },
           "zerolinecolor": "white",
           "zerolinewidth": 2
          },
          "yaxis": {
           "automargin": true,
           "gridcolor": "white",
           "linecolor": "white",
           "ticks": "",
           "title": {
            "standoff": 15
           },
           "zerolinecolor": "white",
           "zerolinewidth": 2
          }
         }
        },
        "xaxis": {
         "anchor": "y",
         "domain": [
          0,
          1
         ],
         "title": {
          "text": "variable"
         }
        },
        "yaxis": {
         "anchor": "x",
         "domain": [
          0,
          1
         ],
         "title": {
          "text": "value"
         }
        }
       }
      },
      "text/html": [
       "<div>                            <div id=\"f28ab011-34b8-4b72-83f1-16899769baac\" class=\"plotly-graph-div\" style=\"height:525px; width:100%;\"></div>            <script type=\"text/javascript\">                require([\"plotly\"], function(Plotly) {                    window.PLOTLYENV=window.PLOTLYENV || {};                                    if (document.getElementById(\"f28ab011-34b8-4b72-83f1-16899769baac\")) {                    Plotly.newPlot(                        \"f28ab011-34b8-4b72-83f1-16899769baac\",                        [{\"alignmentgroup\":\"True\",\"hovertemplate\":\"variable=%{x}<br>value=%{y}<extra></extra>\",\"legendgroup\":\"\",\"marker\":{\"color\":\"#636efa\"},\"name\":\"\",\"notched\":false,\"offsetgroup\":\"\",\"orientation\":\"v\",\"showlegend\":false,\"x\":[\"Adelie_FEMALE\",\"Adelie_FEMALE\",\"Adelie_FEMALE\",\"Adelie_FEMALE\",\"Adelie_FEMALE\",\"Adelie_FEMALE\",\"Adelie_FEMALE\",\"Adelie_FEMALE\",\"Adelie_FEMALE\",\"Adelie_FEMALE\",\"Adelie_FEMALE\",\"Adelie_FEMALE\",\"Adelie_FEMALE\",\"Adelie_FEMALE\",\"Adelie_FEMALE\",\"Adelie_FEMALE\",\"Adelie_FEMALE\",\"Adelie_FEMALE\",\"Adelie_FEMALE\",\"Adelie_FEMALE\",\"Adelie_FEMALE\",\"Adelie_FEMALE\",\"Adelie_FEMALE\",\"Adelie_FEMALE\",\"Adelie_FEMALE\",\"Adelie_FEMALE\",\"Adelie_FEMALE\",\"Adelie_FEMALE\",\"Adelie_FEMALE\",\"Adelie_FEMALE\",\"Adelie_FEMALE\",\"Adelie_FEMALE\",\"Adelie_FEMALE\",\"Adelie_FEMALE\",\"Adelie_FEMALE\",\"Adelie_FEMALE\",\"Adelie_FEMALE\",\"Adelie_FEMALE\",\"Adelie_FEMALE\",\"Adelie_FEMALE\",\"Adelie_FEMALE\",\"Adelie_FEMALE\",\"Adelie_FEMALE\",\"Adelie_FEMALE\",\"Adelie_FEMALE\",\"Adelie_FEMALE\",\"Adelie_FEMALE\",\"Adelie_FEMALE\",\"Adelie_FEMALE\",\"Adelie_FEMALE\",\"Adelie_FEMALE\",\"Adelie_FEMALE\",\"Adelie_FEMALE\",\"Adelie_FEMALE\",\"Adelie_FEMALE\",\"Adelie_FEMALE\",\"Adelie_FEMALE\",\"Adelie_FEMALE\",\"Adelie_FEMALE\",\"Adelie_FEMALE\",\"Adelie_FEMALE\",\"Adelie_FEMALE\",\"Adelie_FEMALE\",\"Adelie_FEMALE\",\"Adelie_FEMALE\",\"Adelie_FEMALE\",\"Adelie_FEMALE\",\"Adelie_FEMALE\",\"Adelie_FEMALE\",\"Adelie_FEMALE\",\"Adelie_FEMALE\",\"Adelie_FEMALE\",\"Adelie_FEMALE\",\"Adelie_MALE\",\"Adelie_MALE\",\"Adelie_MALE\",\"Adelie_MALE\",\"Adelie_MALE\",\"Adelie_MALE\",\"Adelie_MALE\",\"Adelie_MALE\",\"Adelie_MALE\",\"Adelie_MALE\",\"Adelie_MALE\",\"Adelie_MALE\",\"Adelie_MALE\",\"Adelie_MALE\",\"Adelie_MALE\",\"Adelie_MALE\",\"Adelie_MALE\",\"Adelie_MALE\",\"Adelie_MALE\",\"Adelie_MALE\",\"Adelie_MALE\",\"Adelie_MALE\",\"Adelie_MALE\",\"Adelie_MALE\",\"Adelie_MALE\",\"Adelie_MALE\",\"Adelie_MALE\",\"Adelie_MALE\",\"Adelie_MALE\",\"Adelie_MALE\",\"Adelie_MALE\",\"Adelie_MALE\",\"Adelie_MALE\",\"Adelie_MALE\",\"Adelie_MALE\",\"Adelie_MALE\",\"Adelie_MALE\",\"Adelie_MALE\",\"Adelie_MALE\",\"Adelie_MALE\",\"Adelie_MALE\",\"Adelie_MALE\",\"Adelie_MALE\",\"Adelie_MALE\",\"Adelie_MALE\",\"Adelie_MALE\",\"Adelie_MALE\",\"Adelie_MALE\",\"Adelie_MALE\",\"Adelie_MALE\",\"Adelie_MALE\",\"Adelie_MALE\",\"Adelie_MALE\",\"Adelie_MALE\",\"Adelie_MALE\",\"Adelie_MALE\",\"Adelie_MALE\",\"Adelie_MALE\",\"Adelie_MALE\",\"Adelie_MALE\",\"Adelie_MALE\",\"Adelie_MALE\",\"Adelie_MALE\",\"Adelie_MALE\",\"Adelie_MALE\",\"Adelie_MALE\",\"Adelie_MALE\",\"Adelie_MALE\",\"Adelie_MALE\",\"Adelie_MALE\",\"Adelie_MALE\",\"Adelie_MALE\",\"Adelie_MALE\",\"Chinstrap_FEMALE\",\"Chinstrap_FEMALE\",\"Chinstrap_FEMALE\",\"Chinstrap_FEMALE\",\"Chinstrap_FEMALE\",\"Chinstrap_FEMALE\",\"Chinstrap_FEMALE\",\"Chinstrap_FEMALE\",\"Chinstrap_FEMALE\",\"Chinstrap_FEMALE\",\"Chinstrap_FEMALE\",\"Chinstrap_FEMALE\",\"Chinstrap_FEMALE\",\"Chinstrap_FEMALE\",\"Chinstrap_FEMALE\",\"Chinstrap_FEMALE\",\"Chinstrap_FEMALE\",\"Chinstrap_FEMALE\",\"Chinstrap_FEMALE\",\"Chinstrap_FEMALE\",\"Chinstrap_FEMALE\",\"Chinstrap_FEMALE\",\"Chinstrap_FEMALE\",\"Chinstrap_FEMALE\",\"Chinstrap_FEMALE\",\"Chinstrap_FEMALE\",\"Chinstrap_FEMALE\",\"Chinstrap_FEMALE\",\"Chinstrap_FEMALE\",\"Chinstrap_FEMALE\",\"Chinstrap_FEMALE\",\"Chinstrap_FEMALE\",\"Chinstrap_FEMALE\",\"Chinstrap_FEMALE\",\"Chinstrap_FEMALE\",\"Chinstrap_FEMALE\",\"Chinstrap_FEMALE\",\"Chinstrap_FEMALE\",\"Chinstrap_FEMALE\",\"Chinstrap_FEMALE\",\"Chinstrap_FEMALE\",\"Chinstrap_FEMALE\",\"Chinstrap_FEMALE\",\"Chinstrap_FEMALE\",\"Chinstrap_FEMALE\",\"Chinstrap_FEMALE\",\"Chinstrap_FEMALE\",\"Chinstrap_FEMALE\",\"Chinstrap_FEMALE\",\"Chinstrap_FEMALE\",\"Chinstrap_FEMALE\",\"Chinstrap_FEMALE\",\"Chinstrap_FEMALE\",\"Chinstrap_FEMALE\",\"Chinstrap_FEMALE\",\"Chinstrap_FEMALE\",\"Chinstrap_FEMALE\",\"Chinstrap_FEMALE\",\"Chinstrap_FEMALE\",\"Chinstrap_FEMALE\",\"Chinstrap_FEMALE\",\"Chinstrap_FEMALE\",\"Chinstrap_FEMALE\",\"Chinstrap_FEMALE\",\"Chinstrap_FEMALE\",\"Chinstrap_FEMALE\",\"Chinstrap_FEMALE\",\"Chinstrap_FEMALE\",\"Chinstrap_FEMALE\",\"Chinstrap_FEMALE\",\"Chinstrap_FEMALE\",\"Chinstrap_FEMALE\",\"Chinstrap_FEMALE\",\"Chinstrap_MALE\",\"Chinstrap_MALE\",\"Chinstrap_MALE\",\"Chinstrap_MALE\",\"Chinstrap_MALE\",\"Chinstrap_MALE\",\"Chinstrap_MALE\",\"Chinstrap_MALE\",\"Chinstrap_MALE\",\"Chinstrap_MALE\",\"Chinstrap_MALE\",\"Chinstrap_MALE\",\"Chinstrap_MALE\",\"Chinstrap_MALE\",\"Chinstrap_MALE\",\"Chinstrap_MALE\",\"Chinstrap_MALE\",\"Chinstrap_MALE\",\"Chinstrap_MALE\",\"Chinstrap_MALE\",\"Chinstrap_MALE\",\"Chinstrap_MALE\",\"Chinstrap_MALE\",\"Chinstrap_MALE\",\"Chinstrap_MALE\",\"Chinstrap_MALE\",\"Chinstrap_MALE\",\"Chinstrap_MALE\",\"Chinstrap_MALE\",\"Chinstrap_MALE\",\"Chinstrap_MALE\",\"Chinstrap_MALE\",\"Chinstrap_MALE\",\"Chinstrap_MALE\",\"Chinstrap_MALE\",\"Chinstrap_MALE\",\"Chinstrap_MALE\",\"Chinstrap_MALE\",\"Chinstrap_MALE\",\"Chinstrap_MALE\",\"Chinstrap_MALE\",\"Chinstrap_MALE\",\"Chinstrap_MALE\",\"Chinstrap_MALE\",\"Chinstrap_MALE\",\"Chinstrap_MALE\",\"Chinstrap_MALE\",\"Chinstrap_MALE\",\"Chinstrap_MALE\",\"Chinstrap_MALE\",\"Chinstrap_MALE\",\"Chinstrap_MALE\",\"Chinstrap_MALE\",\"Chinstrap_MALE\",\"Chinstrap_MALE\",\"Chinstrap_MALE\",\"Chinstrap_MALE\",\"Chinstrap_MALE\",\"Chinstrap_MALE\",\"Chinstrap_MALE\",\"Chinstrap_MALE\",\"Chinstrap_MALE\",\"Chinstrap_MALE\",\"Chinstrap_MALE\",\"Chinstrap_MALE\",\"Chinstrap_MALE\",\"Chinstrap_MALE\",\"Chinstrap_MALE\",\"Chinstrap_MALE\",\"Chinstrap_MALE\",\"Chinstrap_MALE\",\"Chinstrap_MALE\",\"Chinstrap_MALE\",\"Gentoo_FEMALE\",\"Gentoo_FEMALE\",\"Gentoo_FEMALE\",\"Gentoo_FEMALE\",\"Gentoo_FEMALE\",\"Gentoo_FEMALE\",\"Gentoo_FEMALE\",\"Gentoo_FEMALE\",\"Gentoo_FEMALE\",\"Gentoo_FEMALE\",\"Gentoo_FEMALE\",\"Gentoo_FEMALE\",\"Gentoo_FEMALE\",\"Gentoo_FEMALE\",\"Gentoo_FEMALE\",\"Gentoo_FEMALE\",\"Gentoo_FEMALE\",\"Gentoo_FEMALE\",\"Gentoo_FEMALE\",\"Gentoo_FEMALE\",\"Gentoo_FEMALE\",\"Gentoo_FEMALE\",\"Gentoo_FEMALE\",\"Gentoo_FEMALE\",\"Gentoo_FEMALE\",\"Gentoo_FEMALE\",\"Gentoo_FEMALE\",\"Gentoo_FEMALE\",\"Gentoo_FEMALE\",\"Gentoo_FEMALE\",\"Gentoo_FEMALE\",\"Gentoo_FEMALE\",\"Gentoo_FEMALE\",\"Gentoo_FEMALE\",\"Gentoo_FEMALE\",\"Gentoo_FEMALE\",\"Gentoo_FEMALE\",\"Gentoo_FEMALE\",\"Gentoo_FEMALE\",\"Gentoo_FEMALE\",\"Gentoo_FEMALE\",\"Gentoo_FEMALE\",\"Gentoo_FEMALE\",\"Gentoo_FEMALE\",\"Gentoo_FEMALE\",\"Gentoo_FEMALE\",\"Gentoo_FEMALE\",\"Gentoo_FEMALE\",\"Gentoo_FEMALE\",\"Gentoo_FEMALE\",\"Gentoo_FEMALE\",\"Gentoo_FEMALE\",\"Gentoo_FEMALE\",\"Gentoo_FEMALE\",\"Gentoo_FEMALE\",\"Gentoo_FEMALE\",\"Gentoo_FEMALE\",\"Gentoo_FEMALE\",\"Gentoo_FEMALE\",\"Gentoo_FEMALE\",\"Gentoo_FEMALE\",\"Gentoo_FEMALE\",\"Gentoo_FEMALE\",\"Gentoo_FEMALE\",\"Gentoo_FEMALE\",\"Gentoo_FEMALE\",\"Gentoo_FEMALE\",\"Gentoo_FEMALE\",\"Gentoo_FEMALE\",\"Gentoo_FEMALE\",\"Gentoo_FEMALE\",\"Gentoo_FEMALE\",\"Gentoo_FEMALE\",\"Gentoo_MALE\",\"Gentoo_MALE\",\"Gentoo_MALE\",\"Gentoo_MALE\",\"Gentoo_MALE\",\"Gentoo_MALE\",\"Gentoo_MALE\",\"Gentoo_MALE\",\"Gentoo_MALE\",\"Gentoo_MALE\",\"Gentoo_MALE\",\"Gentoo_MALE\",\"Gentoo_MALE\",\"Gentoo_MALE\",\"Gentoo_MALE\",\"Gentoo_MALE\",\"Gentoo_MALE\",\"Gentoo_MALE\",\"Gentoo_MALE\",\"Gentoo_MALE\",\"Gentoo_MALE\",\"Gentoo_MALE\",\"Gentoo_MALE\",\"Gentoo_MALE\",\"Gentoo_MALE\",\"Gentoo_MALE\",\"Gentoo_MALE\",\"Gentoo_MALE\",\"Gentoo_MALE\",\"Gentoo_MALE\",\"Gentoo_MALE\",\"Gentoo_MALE\",\"Gentoo_MALE\",\"Gentoo_MALE\",\"Gentoo_MALE\",\"Gentoo_MALE\",\"Gentoo_MALE\",\"Gentoo_MALE\",\"Gentoo_MALE\",\"Gentoo_MALE\",\"Gentoo_MALE\",\"Gentoo_MALE\",\"Gentoo_MALE\",\"Gentoo_MALE\",\"Gentoo_MALE\",\"Gentoo_MALE\",\"Gentoo_MALE\",\"Gentoo_MALE\",\"Gentoo_MALE\",\"Gentoo_MALE\",\"Gentoo_MALE\",\"Gentoo_MALE\",\"Gentoo_MALE\",\"Gentoo_MALE\",\"Gentoo_MALE\",\"Gentoo_MALE\",\"Gentoo_MALE\",\"Gentoo_MALE\",\"Gentoo_MALE\",\"Gentoo_MALE\",\"Gentoo_MALE\",\"Gentoo_MALE\",\"Gentoo_MALE\",\"Gentoo_MALE\",\"Gentoo_MALE\",\"Gentoo_MALE\",\"Gentoo_MALE\",\"Gentoo_MALE\",\"Gentoo_MALE\",\"Gentoo_MALE\",\"Gentoo_MALE\",\"Gentoo_MALE\",\"Gentoo_MALE\"],\"x0\":\" \",\"xaxis\":\"x\",\"y\":[3800.0,3250.0,3450.0,3625.0,3200.0,3700.0,3450.0,3325.0,3400.0,3800.0,3800.0,3200.0,3150.0,3250.0,3300.0,3325.0,3550.0,3300.0,3150.0,3100.0,3000.0,3450.0,3500.0,3450.0,2900.0,3550.0,2850.0,3150.0,3600.0,2850.0,3350.0,3050.0,3600.0,3550.0,3700.0,3700.0,3550.0,3200.0,3800.0,3350.0,3500.0,3600.0,3550.0,3400.0,3300.0,3700.0,2900.0,3725.0,3075.0,2925.0,3750.0,3175.0,3825.0,3200.0,3900.0,2900.0,3350.0,3150.0,3450.0,3050.0,3275.0,3050.0,3325.0,3500.0,3425.0,3175.0,3400.0,3400.0,3050.0,3000.0,3475.0,3450.0,3700.0,3750.0,3650.0,4675.0,3800.0,4400.0,4500.0,4200.0,3600.0,3950.0,3800.0,3550.0,3950.0,3900.0,3900.0,4150.0,3950.0,4650.0,3900.0,4400.0,4600.0,3425.0,4150.0,4300.0,4050.0,3700.0,3800.0,3750.0,4400.0,4050.0,3950.0,4100.0,4450.0,3900.0,4150.0,4250.0,3900.0,4000.0,4700.0,4200.0,3550.0,3800.0,3950.0,4300.0,4450.0,4300.0,4350.0,4100.0,4725.0,4250.0,3550.0,3900.0,4775.0,4600.0,4275.0,4075.0,3775.0,3325.0,3500.0,3875.0,4000.0,4300.0,4000.0,3500.0,4475.0,3900.0,3975.0,4250.0,3475.0,3725.0,3650.0,4250.0,3750.0,4000.0,3500.0,3525.0,3950.0,3250.0,4150.0,3800.0,3700.0,3575.0,3700.0,3450.0,3600.0,2900.0,3300.0,3400.0,3700.0,3200.0,3350.0,3900.0,3850.0,2700.0,3650.0,3500.0,3675.0,3400.0,3675.0,3325.0,3600.0,3350.0,3250.0,3525.0,3650.0,3650.0,3400.0,3775.0,null,null,null,null,null,null,null,null,null,null,null,null,null,null,null,null,null,null,null,null,null,null,null,null,null,null,null,null,null,null,null,null,null,null,null,null,null,null,null,3900.0,3650.0,3725.0,3750.0,3700.0,3775.0,4050.0,4050.0,3300.0,4400.0,3400.0,3800.0,4150.0,3800.0,4550.0,4300.0,4100.0,3600.0,4800.0,4500.0,3950.0,3550.0,4450.0,4300.0,3250.0,3950.0,4050.0,3450.0,4050.0,3800.0,3950.0,4000.0,3775.0,4100.0,null,null,null,null,null,null,null,null,null,null,null,null,null,null,null,null,null,null,null,null,null,null,null,null,null,null,null,null,null,null,null,null,null,null,null,null,null,null,null,4500.0,4450.0,4550.0,4800.0,4400.0,4650.0,4650.0,4200.0,4150.0,4800.0,5000.0,4400.0,5000.0,4600.0,4700.0,5050.0,5150.0,4950.0,4350.0,3950.0,4300.0,4900.0,4200.0,5100.0,4850.0,4400.0,4900.0,4300.0,4450.0,4200.0,4400.0,4700.0,4700.0,4750.0,5200.0,4700.0,4600.0,4750.0,4625.0,4725.0,4750.0,4600.0,4875.0,4950.0,4750.0,4850.0,4875.0,4625.0,4850.0,4975.0,4700.0,4575.0,5000.0,4650.0,4375.0,4925.0,4850.0,5200.0,null,null,null,null,null,null,null,null,null,null,null,null,null,null,null,5700.0,5700.0,5400.0,5200.0,5150.0,5550.0,5850.0,5850.0,6300.0,5350.0,5700.0,5050.0,5100.0,5650.0,5550.0,5250.0,6050.0,5400.0,5250.0,5350.0,5700.0,4750.0,5550.0,5400.0,5300.0,5300.0,5000.0,5050.0,5000.0,5550.0,5300.0,5650.0,5700.0,5800.0,5550.0,5000.0,5100.0,5800.0,6000.0,5950.0,5450.0,5350.0,5600.0,5300.0,5550.0,5400.0,5650.0,5200.0,4925.0,5250.0,5600.0,5500.0,5500.0,5500.0,5500.0,5950.0,5500.0,5850.0,6000.0,5750.0,5400.0,null,null,null,null,null,null,null,null,null,null,null,null],\"y0\":\" \",\"yaxis\":\"y\",\"type\":\"box\"}],                        {\"template\":{\"data\":{\"bar\":[{\"error_x\":{\"color\":\"#2a3f5f\"},\"error_y\":{\"color\":\"#2a3f5f\"},\"marker\":{\"line\":{\"color\":\"#E5ECF6\",\"width\":0.5},\"pattern\":{\"fillmode\":\"overlay\",\"size\":10,\"solidity\":0.2}},\"type\":\"bar\"}],\"barpolar\":[{\"marker\":{\"line\":{\"color\":\"#E5ECF6\",\"width\":0.5},\"pattern\":{\"fillmode\":\"overlay\",\"size\":10,\"solidity\":0.2}},\"type\":\"barpolar\"}],\"carpet\":[{\"aaxis\":{\"endlinecolor\":\"#2a3f5f\",\"gridcolor\":\"white\",\"linecolor\":\"white\",\"minorgridcolor\":\"white\",\"startlinecolor\":\"#2a3f5f\"},\"baxis\":{\"endlinecolor\":\"#2a3f5f\",\"gridcolor\":\"white\",\"linecolor\":\"white\",\"minorgridcolor\":\"white\",\"startlinecolor\":\"#2a3f5f\"},\"type\":\"carpet\"}],\"choropleth\":[{\"colorbar\":{\"outlinewidth\":0,\"ticks\":\"\"},\"type\":\"choropleth\"}],\"contour\":[{\"colorbar\":{\"outlinewidth\":0,\"ticks\":\"\"},\"colorscale\":[[0.0,\"#0d0887\"],[0.1111111111111111,\"#46039f\"],[0.2222222222222222,\"#7201a8\"],[0.3333333333333333,\"#9c179e\"],[0.4444444444444444,\"#bd3786\"],[0.5555555555555556,\"#d8576b\"],[0.6666666666666666,\"#ed7953\"],[0.7777777777777778,\"#fb9f3a\"],[0.8888888888888888,\"#fdca26\"],[1.0,\"#f0f921\"]],\"type\":\"contour\"}],\"contourcarpet\":[{\"colorbar\":{\"outlinewidth\":0,\"ticks\":\"\"},\"type\":\"contourcarpet\"}],\"heatmap\":[{\"colorbar\":{\"outlinewidth\":0,\"ticks\":\"\"},\"colorscale\":[[0.0,\"#0d0887\"],[0.1111111111111111,\"#46039f\"],[0.2222222222222222,\"#7201a8\"],[0.3333333333333333,\"#9c179e\"],[0.4444444444444444,\"#bd3786\"],[0.5555555555555556,\"#d8576b\"],[0.6666666666666666,\"#ed7953\"],[0.7777777777777778,\"#fb9f3a\"],[0.8888888888888888,\"#fdca26\"],[1.0,\"#f0f921\"]],\"type\":\"heatmap\"}],\"heatmapgl\":[{\"colorbar\":{\"outlinewidth\":0,\"ticks\":\"\"},\"colorscale\":[[0.0,\"#0d0887\"],[0.1111111111111111,\"#46039f\"],[0.2222222222222222,\"#7201a8\"],[0.3333333333333333,\"#9c179e\"],[0.4444444444444444,\"#bd3786\"],[0.5555555555555556,\"#d8576b\"],[0.6666666666666666,\"#ed7953\"],[0.7777777777777778,\"#fb9f3a\"],[0.8888888888888888,\"#fdca26\"],[1.0,\"#f0f921\"]],\"type\":\"heatmapgl\"}],\"histogram\":[{\"marker\":{\"pattern\":{\"fillmode\":\"overlay\",\"size\":10,\"solidity\":0.2}},\"type\":\"histogram\"}],\"histogram2d\":[{\"colorbar\":{\"outlinewidth\":0,\"ticks\":\"\"},\"colorscale\":[[0.0,\"#0d0887\"],[0.1111111111111111,\"#46039f\"],[0.2222222222222222,\"#7201a8\"],[0.3333333333333333,\"#9c179e\"],[0.4444444444444444,\"#bd3786\"],[0.5555555555555556,\"#d8576b\"],[0.6666666666666666,\"#ed7953\"],[0.7777777777777778,\"#fb9f3a\"],[0.8888888888888888,\"#fdca26\"],[1.0,\"#f0f921\"]],\"type\":\"histogram2d\"}],\"histogram2dcontour\":[{\"colorbar\":{\"outlinewidth\":0,\"ticks\":\"\"},\"colorscale\":[[0.0,\"#0d0887\"],[0.1111111111111111,\"#46039f\"],[0.2222222222222222,\"#7201a8\"],[0.3333333333333333,\"#9c179e\"],[0.4444444444444444,\"#bd3786\"],[0.5555555555555556,\"#d8576b\"],[0.6666666666666666,\"#ed7953\"],[0.7777777777777778,\"#fb9f3a\"],[0.8888888888888888,\"#fdca26\"],[1.0,\"#f0f921\"]],\"type\":\"histogram2dcontour\"}],\"mesh3d\":[{\"colorbar\":{\"outlinewidth\":0,\"ticks\":\"\"},\"type\":\"mesh3d\"}],\"parcoords\":[{\"line\":{\"colorbar\":{\"outlinewidth\":0,\"ticks\":\"\"}},\"type\":\"parcoords\"}],\"pie\":[{\"automargin\":true,\"type\":\"pie\"}],\"scatter\":[{\"marker\":{\"colorbar\":{\"outlinewidth\":0,\"ticks\":\"\"}},\"type\":\"scatter\"}],\"scatter3d\":[{\"line\":{\"colorbar\":{\"outlinewidth\":0,\"ticks\":\"\"}},\"marker\":{\"colorbar\":{\"outlinewidth\":0,\"ticks\":\"\"}},\"type\":\"scatter3d\"}],\"scattercarpet\":[{\"marker\":{\"colorbar\":{\"outlinewidth\":0,\"ticks\":\"\"}},\"type\":\"scattercarpet\"}],\"scattergeo\":[{\"marker\":{\"colorbar\":{\"outlinewidth\":0,\"ticks\":\"\"}},\"type\":\"scattergeo\"}],\"scattergl\":[{\"marker\":{\"colorbar\":{\"outlinewidth\":0,\"ticks\":\"\"}},\"type\":\"scattergl\"}],\"scattermapbox\":[{\"marker\":{\"colorbar\":{\"outlinewidth\":0,\"ticks\":\"\"}},\"type\":\"scattermapbox\"}],\"scatterpolar\":[{\"marker\":{\"colorbar\":{\"outlinewidth\":0,\"ticks\":\"\"}},\"type\":\"scatterpolar\"}],\"scatterpolargl\":[{\"marker\":{\"colorbar\":{\"outlinewidth\":0,\"ticks\":\"\"}},\"type\":\"scatterpolargl\"}],\"scatterternary\":[{\"marker\":{\"colorbar\":{\"outlinewidth\":0,\"ticks\":\"\"}},\"type\":\"scatterternary\"}],\"surface\":[{\"colorbar\":{\"outlinewidth\":0,\"ticks\":\"\"},\"colorscale\":[[0.0,\"#0d0887\"],[0.1111111111111111,\"#46039f\"],[0.2222222222222222,\"#7201a8\"],[0.3333333333333333,\"#9c179e\"],[0.4444444444444444,\"#bd3786\"],[0.5555555555555556,\"#d8576b\"],[0.6666666666666666,\"#ed7953\"],[0.7777777777777778,\"#fb9f3a\"],[0.8888888888888888,\"#fdca26\"],[1.0,\"#f0f921\"]],\"type\":\"surface\"}],\"table\":[{\"cells\":{\"fill\":{\"color\":\"#EBF0F8\"},\"line\":{\"color\":\"white\"}},\"header\":{\"fill\":{\"color\":\"#C8D4E3\"},\"line\":{\"color\":\"white\"}},\"type\":\"table\"}]},\"layout\":{\"annotationdefaults\":{\"arrowcolor\":\"#2a3f5f\",\"arrowhead\":0,\"arrowwidth\":1},\"autotypenumbers\":\"strict\",\"coloraxis\":{\"colorbar\":{\"outlinewidth\":0,\"ticks\":\"\"}},\"colorscale\":{\"diverging\":[[0,\"#8e0152\"],[0.1,\"#c51b7d\"],[0.2,\"#de77ae\"],[0.3,\"#f1b6da\"],[0.4,\"#fde0ef\"],[0.5,\"#f7f7f7\"],[0.6,\"#e6f5d0\"],[0.7,\"#b8e186\"],[0.8,\"#7fbc41\"],[0.9,\"#4d9221\"],[1,\"#276419\"]],\"sequential\":[[0.0,\"#0d0887\"],[0.1111111111111111,\"#46039f\"],[0.2222222222222222,\"#7201a8\"],[0.3333333333333333,\"#9c179e\"],[0.4444444444444444,\"#bd3786\"],[0.5555555555555556,\"#d8576b\"],[0.6666666666666666,\"#ed7953\"],[0.7777777777777778,\"#fb9f3a\"],[0.8888888888888888,\"#fdca26\"],[1.0,\"#f0f921\"]],\"sequentialminus\":[[0.0,\"#0d0887\"],[0.1111111111111111,\"#46039f\"],[0.2222222222222222,\"#7201a8\"],[0.3333333333333333,\"#9c179e\"],[0.4444444444444444,\"#bd3786\"],[0.5555555555555556,\"#d8576b\"],[0.6666666666666666,\"#ed7953\"],[0.7777777777777778,\"#fb9f3a\"],[0.8888888888888888,\"#fdca26\"],[1.0,\"#f0f921\"]]},\"colorway\":[\"#636efa\",\"#EF553B\",\"#00cc96\",\"#ab63fa\",\"#FFA15A\",\"#19d3f3\",\"#FF6692\",\"#B6E880\",\"#FF97FF\",\"#FECB52\"],\"font\":{\"color\":\"#2a3f5f\"},\"geo\":{\"bgcolor\":\"white\",\"lakecolor\":\"white\",\"landcolor\":\"#E5ECF6\",\"showlakes\":true,\"showland\":true,\"subunitcolor\":\"white\"},\"hoverlabel\":{\"align\":\"left\"},\"hovermode\":\"closest\",\"mapbox\":{\"style\":\"light\"},\"paper_bgcolor\":\"white\",\"plot_bgcolor\":\"#E5ECF6\",\"polar\":{\"angularaxis\":{\"gridcolor\":\"white\",\"linecolor\":\"white\",\"ticks\":\"\"},\"bgcolor\":\"#E5ECF6\",\"radialaxis\":{\"gridcolor\":\"white\",\"linecolor\":\"white\",\"ticks\":\"\"}},\"scene\":{\"xaxis\":{\"backgroundcolor\":\"#E5ECF6\",\"gridcolor\":\"white\",\"gridwidth\":2,\"linecolor\":\"white\",\"showbackground\":true,\"ticks\":\"\",\"zerolinecolor\":\"white\"},\"yaxis\":{\"backgroundcolor\":\"#E5ECF6\",\"gridcolor\":\"white\",\"gridwidth\":2,\"linecolor\":\"white\",\"showbackground\":true,\"ticks\":\"\",\"zerolinecolor\":\"white\"},\"zaxis\":{\"backgroundcolor\":\"#E5ECF6\",\"gridcolor\":\"white\",\"gridwidth\":2,\"linecolor\":\"white\",\"showbackground\":true,\"ticks\":\"\",\"zerolinecolor\":\"white\"}},\"shapedefaults\":{\"line\":{\"color\":\"#2a3f5f\"}},\"ternary\":{\"aaxis\":{\"gridcolor\":\"white\",\"linecolor\":\"white\",\"ticks\":\"\"},\"baxis\":{\"gridcolor\":\"white\",\"linecolor\":\"white\",\"ticks\":\"\"},\"bgcolor\":\"#E5ECF6\",\"caxis\":{\"gridcolor\":\"white\",\"linecolor\":\"white\",\"ticks\":\"\"}},\"title\":{\"x\":0.05},\"xaxis\":{\"automargin\":true,\"gridcolor\":\"white\",\"linecolor\":\"white\",\"ticks\":\"\",\"title\":{\"standoff\":15},\"zerolinecolor\":\"white\",\"zerolinewidth\":2},\"yaxis\":{\"automargin\":true,\"gridcolor\":\"white\",\"linecolor\":\"white\",\"ticks\":\"\",\"title\":{\"standoff\":15},\"zerolinecolor\":\"white\",\"zerolinewidth\":2}}},\"xaxis\":{\"anchor\":\"y\",\"domain\":[0.0,1.0],\"title\":{\"text\":\"variable\"}},\"yaxis\":{\"anchor\":\"x\",\"domain\":[0.0,1.0],\"title\":{\"text\":\"value\"}},\"legend\":{\"tracegroupgap\":0},\"margin\":{\"t\":60},\"boxmode\":\"group\"},                        {\"responsive\": true}                    ).then(function(){\n",
       "                            \n",
       "var gd = document.getElementById('f28ab011-34b8-4b72-83f1-16899769baac');\n",
       "var x = new MutationObserver(function (mutations, observer) {{\n",
       "        var display = window.getComputedStyle(gd).display;\n",
       "        if (!display || display === 'none') {{\n",
       "            console.log([gd, 'removed!']);\n",
       "            Plotly.purge(gd);\n",
       "            observer.disconnect();\n",
       "        }}\n",
       "}});\n",
       "\n",
       "// Listen for the removal of the full notebook cells\n",
       "var notebookContainer = gd.closest('#notebook-container');\n",
       "if (notebookContainer) {{\n",
       "    x.observe(notebookContainer, {childList: true});\n",
       "}}\n",
       "\n",
       "// Listen for the clearing of the current output cell\n",
       "var outputEl = gd.closest('.output');\n",
       "if (outputEl) {{\n",
       "    x.observe(outputEl, {childList: true});\n",
       "}}\n",
       "\n",
       "                        })                };                });            </script>        </div>"
      ]
     },
     "metadata": {},
     "output_type": "display_data"
    }
   ],
   "source": [
    "# https://plotly.com/python/box-plots/ \n",
    "\n",
    "# # Works for only Jupyter Notebook (old method)\n",
    "# from plotly.offline import iplot\n",
    "# fig = px.box(df)\n",
    "# iplot(fig)\n",
    "\n",
    "\n",
    "\n",
    "# Works for only Jupyter Notebook (new method)\n",
    "pxo.init_notebook_mode(connected=True)\n",
    "fig = px.box(df)\n",
    "fig.show()"
   ]
  },
  {
   "cell_type": "code",
   "execution_count": 17,
   "id": "ac7d28eb",
   "metadata": {},
   "outputs": [],
   "source": [
    "# Works for Jupyter Notebook and Jupyer Lab\n",
    "fig = px.box(df)\n",
    "fig.write_html('plotly_boxplot.html', auto_open=True)\n"
   ]
  },
  {
   "cell_type": "markdown",
   "id": "73ed7180",
   "metadata": {},
   "source": [
    "## Seaborn Boxplots"
   ]
  },
  {
   "cell_type": "code",
   "execution_count": 18,
   "id": "8485d329",
   "metadata": {},
   "outputs": [
    {
     "data": {
      "image/png": "[encoded data removed]",
      "text/plain": [
       "<Figure size 432x288 with 1 Axes>"
      ]
     },
     "metadata": {},
     "output_type": "display_data"
    }
   ],
   "source": [
    "# https://seaborn.pydata.org/generated/seaborn.boxplot.html\n",
    "# uses Matplotlib, returns ax which is a Matplotlib axis\n",
    "sns.set_theme(style=\"whitegrid\")\n",
    "ax = sns.boxplot(data=df)\n",
    "plt.xticks(rotation = 45);"
   ]
  },
  {
   "cell_type": "code",
   "execution_count": null,
   "id": "bf863c2a",
   "metadata": {},
   "outputs": [],
   "source": []
  },
  {
   "cell_type": "markdown",
   "id": "a20adc89",
   "metadata": {},
   "source": [
    "## Bokeh Boxplots"
   ]
  },
  {
   "cell_type": "code",
   "execution_count": 19,
   "id": "9c2e640c",
   "metadata": {},
   "outputs": [],
   "source": [
    "import numpy as np\n",
    "import math"
   ]
  },
  {
   "cell_type": "code",
   "execution_count": 20,
   "id": "8bdf4f59",
   "metadata": {},
   "outputs": [],
   "source": [
    "# find the quartiles and IQR for each category\n",
    "\n",
    "groups = df_long.groupby('group')\n",
    "cats = groups.apply(list).index.to_list()\n",
    "\n",
    "q1 = groups.quantile(q=0.25)\n",
    "q2 = groups.quantile(q=0.5)\n",
    "q3 = groups.quantile(q=0.75)\n",
    "iqr = q3 - q1\n",
    "upper = q3 + 1.5*iqr\n",
    "lower = q1 - 1.5*iqr\n",
    "\n",
    "# find the outliers for each category\n",
    "def outliers(group):\n",
    "    cat = group.name\n",
    "    return group[(group.body_mass_g > upper.loc[cat]['body_mass_g']) | (group.body_mass_g < lower.loc[cat]['body_mass_g'])]['body_mass_g']\n",
    "out = groups.apply(outliers).dropna()\n",
    "\n",
    "# prepare outlier data for plotting, we need coordinates for every outlier.\n",
    "if not out.empty:\n",
    "    outx = list(out.index.get_level_values(0))\n",
    "    outy = list(out.values)\n",
    "\n",
    "p = figure(tools=\"\", background_fill_color=\"#efefef\", x_range=cats, toolbar_location=None)\n",
    "\n",
    "# if no outliers, shrink lengths of stems to be no longer than the minimums or maximums\n",
    "qmin = groups.quantile(q=0.00)\n",
    "qmax = groups.quantile(q=1.00)\n",
    "upper.body_mass_g = [min([x,y]) for (x,y) in zip(list(qmax.loc[:,'body_mass_g']),upper.body_mass_g)]\n",
    "lower.body_mass_g = [max([x,y]) for (x,y) in zip(list(qmin.loc[:,'body_mass_g']),lower.body_mass_g)]\n",
    "\n",
    "# stems\n",
    "p.segment(cats, upper.body_mass_g, cats, q3.body_mass_g, line_color=\"black\")\n",
    "p.segment(cats, lower.body_mass_g, cats, q1.body_mass_g, line_color=\"black\")\n",
    "\n",
    "# boxes\n",
    "p.vbar(cats, 0.7, q2.body_mass_g, q3.body_mass_g, fill_color=\"#E08E79\", line_color=\"black\")\n",
    "p.vbar(cats, 0.7, q1.body_mass_g, q2.body_mass_g, fill_color=\"#3B8686\", line_color=\"black\")\n",
    "\n",
    "# whiskers (almost-0 height rects simpler than segments)\n",
    "p.rect(cats, lower.body_mass_g, 0.2, 0.01, line_color=\"black\")\n",
    "p.rect(cats, upper.body_mass_g, 0.2, 0.01, line_color=\"black\")\n",
    "\n",
    "# outliers\n",
    "if not out.empty:\n",
    "    p.circle(outx, outy, size=6, color=\"#F38630\", fill_alpha=0.6)\n",
    "\n",
    "p.xgrid.grid_line_color = None\n",
    "p.ygrid.grid_line_color = \"white\"\n",
    "p.grid.grid_line_width = 2\n",
    "p.xaxis.major_label_text_font_size=\"16px\"\n",
    "p.xaxis.major_label_orientation = math.pi/4\n",
    "\n",
    "show(p)"
   ]
  },
  {
   "cell_type": "code",
   "execution_count": null,
   "id": "327a7b73",
   "metadata": {},
   "outputs": [],
   "source": []
  },
  {
   "cell_type": "code",
   "execution_count": null,
   "id": "7ae84d64",
   "metadata": {},
   "outputs": [],
   "source": []
  }
 ],
 "metadata": {
  "kernelspec": {
   "display_name": "Python [conda env:PythonData38]",
   "language": "python",
   "name": "conda-env-PythonData38-py"
  },
  "language_info": {
   "codemirror_mode": {
    "name": "ipython",
    "version": 3
   },
   "file_extension": ".py",
   "mimetype": "text/x-python",
   "name": "python",
   "nbconvert_exporter": "python",
   "pygments_lexer": "ipython3",
   "version": "3.8.8"
  }
 },
 "nbformat": 4,
 "nbformat_minor": 5
}
